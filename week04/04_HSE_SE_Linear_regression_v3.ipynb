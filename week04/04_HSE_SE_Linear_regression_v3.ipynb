{
 "cells": [
  {
   "cell_type": "markdown",
   "metadata": {
    "id": "TcXyA18WP551"
   },
   "source": [
    "# HSE 2021: Mathematical Methods for Data Analysis\n",
    "\n",
    "## Seminar 4: Linear Regression "
   ]
  },
  {
   "cell_type": "markdown",
   "metadata": {
    "id": "ZkpzLhVjP557"
   },
   "source": [
    "**Authors**: Polina Polunina, Yury Kashnitsky, Maria Tikhonova, Eugeny Sokolov"
   ]
  },
  {
   "cell_type": "markdown",
   "metadata": {
    "id": "yL8pCd9hP55-"
   },
   "source": [
    "Import packages:"
   ]
  },
  {
   "cell_type": "code",
   "execution_count": null,
   "metadata": {},
   "outputs": [],
   "source": [
    "pip install wget\n",
    "pip install statsmodels"
   ]
  },
  {
   "cell_type": "code",
   "execution_count": 2,
   "metadata": {
    "colab": {
     "base_uri": "https://localhost:8080/"
    },
    "id": "aByHV_4KP55-",
    "outputId": "7050b042-5383-47d0-b13a-5d5cabca5d8b"
   },
   "outputs": [],
   "source": [
    "#linear algebra\n",
    "import numpy as np\n",
    "#data structures\n",
    "import pandas as pd\n",
    "#ml models\n",
    "import scipy as sp\n",
    "import sklearn\n",
    "from sklearn import datasets\n",
    "from sklearn import metrics\n",
    "from sklearn.metrics import accuracy_score\n",
    "#plots\n",
    "import matplotlib.pyplot as plt\n",
    "%matplotlib inline\n",
    "#beautiful plots\n",
    "import seaborn as sns\n",
    "#linear regression\n",
    "import statsmodels.api as sm\n",
    "#set style for plots\n",
    "sns.set_style('darkgrid')\n",
    "#ulr links\n",
    "import wget\n",
    "#off the warnings\n",
    "import warnings\n",
    "warnings.filterwarnings(\"ignore\")"
   ]
  },
  {
   "cell_type": "markdown",
   "metadata": {
    "id": "lX74u3XxP55_"
   },
   "source": [
    "## Simple Linear Regression\n",
    "Simple Linear Regression - regression with one variable"
   ]
  },
  {
   "cell_type": "markdown",
   "metadata": {
    "id": "OISPz3RhP55_"
   },
   "source": [
    "Load the dataset:\n",
    "* **SalePrice** - The property's sale price in dollars. This is the target variable that you're trying to predict\n",
    "* **GrLivArea** - Above grade (ground) living area square feet\n"
   ]
  },
  {
   "cell_type": "code",
   "execution_count": 3,
   "metadata": {
    "colab": {
     "base_uri": "https://localhost:8080/",
     "height": 36
    },
    "id": "YbqllKenP56A",
    "outputId": "ca968a3c-8754-4a9b-d632-f781dc7171fb"
   },
   "outputs": [
    {
     "name": "stdout",
     "output_type": "stream",
     "text": [
      "100% [........................................................] 460676 / 460676"
     ]
    },
    {
     "data": {
      "text/plain": [
       "'train_home_price.csv'"
      ]
     },
     "execution_count": 3,
     "metadata": {},
     "output_type": "execute_result"
    }
   ],
   "source": [
    "# store the web link in a variable\n",
    "url = 'https://docs.google.com/uc?export=download&id=1k21iUIrz0NjfiLE_j-oBQm1bNu3wASX6'\n",
    "\n",
    "# download the file and save its name to a viriable\n",
    "filename = wget.download(url)\n",
    "\n",
    "# print the filename\n",
    "filename"
   ]
  },
  {
   "cell_type": "code",
   "execution_count": 6,
   "metadata": {
    "id": "bF-Jt4Y9P56C"
   },
   "outputs": [],
   "source": [
    "# loading the data from pc\n",
    "data = pd.read_csv(filename, index_col=0, usecols=['Id', 'GrLivArea', 'SalePrice'])"
   ]
  },
  {
   "cell_type": "markdown",
   "metadata": {
    "id": "etb8lQHqP56C"
   },
   "source": [
    "Let's have a look into the data:"
   ]
  },
  {
   "cell_type": "code",
   "execution_count": 7,
   "metadata": {
    "colab": {
     "base_uri": "https://localhost:8080/",
     "height": 237
    },
    "id": "cfzKgEz7P56D",
    "outputId": "115488a5-a8e2-4f8b-bb11-1fade48462da"
   },
   "outputs": [
    {
     "data": {
      "text/html": [
       "<div>\n",
       "<style scoped>\n",
       "    .dataframe tbody tr th:only-of-type {\n",
       "        vertical-align: middle;\n",
       "    }\n",
       "\n",
       "    .dataframe tbody tr th {\n",
       "        vertical-align: top;\n",
       "    }\n",
       "\n",
       "    .dataframe thead th {\n",
       "        text-align: right;\n",
       "    }\n",
       "</style>\n",
       "<table border=\"1\" class=\"dataframe\">\n",
       "  <thead>\n",
       "    <tr style=\"text-align: right;\">\n",
       "      <th></th>\n",
       "      <th>GrLivArea</th>\n",
       "      <th>SalePrice</th>\n",
       "    </tr>\n",
       "    <tr>\n",
       "      <th>Id</th>\n",
       "      <th></th>\n",
       "      <th></th>\n",
       "    </tr>\n",
       "  </thead>\n",
       "  <tbody>\n",
       "    <tr>\n",
       "      <th>1</th>\n",
       "      <td>1710</td>\n",
       "      <td>208500</td>\n",
       "    </tr>\n",
       "    <tr>\n",
       "      <th>2</th>\n",
       "      <td>1262</td>\n",
       "      <td>181500</td>\n",
       "    </tr>\n",
       "    <tr>\n",
       "      <th>3</th>\n",
       "      <td>1786</td>\n",
       "      <td>223500</td>\n",
       "    </tr>\n",
       "    <tr>\n",
       "      <th>4</th>\n",
       "      <td>1717</td>\n",
       "      <td>140000</td>\n",
       "    </tr>\n",
       "    <tr>\n",
       "      <th>5</th>\n",
       "      <td>2198</td>\n",
       "      <td>250000</td>\n",
       "    </tr>\n",
       "  </tbody>\n",
       "</table>\n",
       "</div>"
      ],
      "text/plain": [
       "    GrLivArea  SalePrice\n",
       "Id                      \n",
       "1        1710     208500\n",
       "2        1262     181500\n",
       "3        1786     223500\n",
       "4        1717     140000\n",
       "5        2198     250000"
      ]
     },
     "execution_count": 7,
     "metadata": {},
     "output_type": "execute_result"
    }
   ],
   "source": [
    "data.head()"
   ]
  },
  {
   "cell_type": "code",
   "execution_count": 8,
   "metadata": {
    "colab": {
     "base_uri": "https://localhost:8080/",
     "height": 300
    },
    "id": "-Q9woeT3P56E",
    "outputId": "918ca9bd-83b2-4595-924e-093077bdfcc6"
   },
   "outputs": [
    {
     "data": {
      "text/html": [
       "<div>\n",
       "<style scoped>\n",
       "    .dataframe tbody tr th:only-of-type {\n",
       "        vertical-align: middle;\n",
       "    }\n",
       "\n",
       "    .dataframe tbody tr th {\n",
       "        vertical-align: top;\n",
       "    }\n",
       "\n",
       "    .dataframe thead th {\n",
       "        text-align: right;\n",
       "    }\n",
       "</style>\n",
       "<table border=\"1\" class=\"dataframe\">\n",
       "  <thead>\n",
       "    <tr style=\"text-align: right;\">\n",
       "      <th></th>\n",
       "      <th>GrLivArea</th>\n",
       "      <th>SalePrice</th>\n",
       "    </tr>\n",
       "  </thead>\n",
       "  <tbody>\n",
       "    <tr>\n",
       "      <th>count</th>\n",
       "      <td>1460.000000</td>\n",
       "      <td>1460.000000</td>\n",
       "    </tr>\n",
       "    <tr>\n",
       "      <th>mean</th>\n",
       "      <td>1515.463699</td>\n",
       "      <td>180921.195890</td>\n",
       "    </tr>\n",
       "    <tr>\n",
       "      <th>std</th>\n",
       "      <td>525.480383</td>\n",
       "      <td>79442.502883</td>\n",
       "    </tr>\n",
       "    <tr>\n",
       "      <th>min</th>\n",
       "      <td>334.000000</td>\n",
       "      <td>34900.000000</td>\n",
       "    </tr>\n",
       "    <tr>\n",
       "      <th>25%</th>\n",
       "      <td>1129.500000</td>\n",
       "      <td>129975.000000</td>\n",
       "    </tr>\n",
       "    <tr>\n",
       "      <th>50%</th>\n",
       "      <td>1464.000000</td>\n",
       "      <td>163000.000000</td>\n",
       "    </tr>\n",
       "    <tr>\n",
       "      <th>75%</th>\n",
       "      <td>1776.750000</td>\n",
       "      <td>214000.000000</td>\n",
       "    </tr>\n",
       "    <tr>\n",
       "      <th>max</th>\n",
       "      <td>5642.000000</td>\n",
       "      <td>755000.000000</td>\n",
       "    </tr>\n",
       "  </tbody>\n",
       "</table>\n",
       "</div>"
      ],
      "text/plain": [
       "         GrLivArea      SalePrice\n",
       "count  1460.000000    1460.000000\n",
       "mean   1515.463699  180921.195890\n",
       "std     525.480383   79442.502883\n",
       "min     334.000000   34900.000000\n",
       "25%    1129.500000  129975.000000\n",
       "50%    1464.000000  163000.000000\n",
       "75%    1776.750000  214000.000000\n",
       "max    5642.000000  755000.000000"
      ]
     },
     "execution_count": 8,
     "metadata": {},
     "output_type": "execute_result"
    }
   ],
   "source": [
    "data.describe()"
   ]
  },
  {
   "cell_type": "code",
   "execution_count": 9,
   "metadata": {
    "colab": {
     "base_uri": "https://localhost:8080/",
     "height": 265
    },
    "id": "SrOzT853P56E",
    "outputId": "0705daa5-d99e-457d-f6e6-9dbc6d641243"
   },
   "outputs": [
    {
     "data": {
      "image/png": "[encoded data removed]",
      "text/plain": [
       "<Figure size 432x288 with 1 Axes>"
      ]
     },
     "metadata": {},
     "output_type": "display_data"
    }
   ],
   "source": [
    "data.GrLivArea.hist(bins=20, label='GrLivArea')\n",
    "plt.legend()\n",
    "plt.show()"
   ]
  },
  {
   "cell_type": "code",
   "execution_count": 10,
   "metadata": {
    "colab": {
     "base_uri": "https://localhost:8080/",
     "height": 265
    },
    "id": "As1qJaLdP56E",
    "outputId": "0868487e-8cef-4b51-95a1-3af712721de6"
   },
   "outputs": [
    {
     "data": {
      "image/png": "[encoded data removed]",
      "text/plain": [
       "<Figure size 432x288 with 1 Axes>"
      ]
     },
     "metadata": {},
     "output_type": "display_data"
    }
   ],
   "source": [
    "data.SalePrice.hist(bins=30, label='SalePrice')\n",
    "plt.legend()\n",
    "plt.show()"
   ]
  },
  {
   "cell_type": "code",
   "execution_count": 11,
   "metadata": {
    "colab": {
     "base_uri": "https://localhost:8080/"
    },
    "id": "SsvrF2xNP56G",
    "outputId": "cdfee2cc-899e-450e-8a60-d2405984f5ca"
   },
   "outputs": [
    {
     "data": {
      "text/plain": [
       "326099.9999999999"
      ]
     },
     "execution_count": 11,
     "metadata": {},
     "output_type": "execute_result"
    }
   ],
   "source": [
    "data.SalePrice.quantile(0.95)"
   ]
  },
  {
   "cell_type": "code",
   "execution_count": 12,
   "metadata": {
    "colab": {
     "base_uri": "https://localhost:8080/",
     "height": 458
    },
    "id": "tbcDAXEOP56G",
    "outputId": "9898d0e2-3e8e-491b-f647-5ab38b15fdb1"
   },
   "outputs": [
    {
     "data": {
      "image/png": "[encoded data removed]",
      "text/plain": [
       "<Figure size 720x504 with 1 Axes>"
      ]
     },
     "metadata": {},
     "output_type": "display_data"
    }
   ],
   "source": [
    "#set figsize of the plot\n",
    "plt.figure(figsize = (10,7))\n",
    "#scatter plot of the data\n",
    "plt.scatter(data.GrLivArea, data.SalePrice)\n",
    "#text for x axis\n",
    "plt.xlabel('Living area, square feet')\n",
    "#text for y axis\n",
    "plt.ylabel('Sale Price, dollars')\n",
    "#text for the plot title\n",
    "plt.title('Dependence between House Sale Price and Living Area')\n",
    "#show the plot\n",
    "plt.show()"
   ]
  },
  {
   "cell_type": "markdown",
   "metadata": {
    "id": "C_4EmgTyP56G"
   },
   "source": [
    "### How to model this dependence?"
   ]
  },
  {
   "cell_type": "markdown",
   "metadata": {
    "id": "2Y3kER0dP56G"
   },
   "source": [
    "### Building a model\n",
    "\n",
    "* Y = SalePrice - target, dependent variable \n",
    "* X = GrLivArea - predictor, independent variable\n",
    "\n",
    "**the model**\n",
    "\n",
    "We want to find a line that reflects the dependence between Sale Price and Living area\n",
    "\n",
    "\n",
    "$Y = a + bX + \\epsilon$\n"
   ]
  },
  {
   "cell_type": "code",
   "execution_count": 13,
   "metadata": {
    "id": "ewjvLswUP56G"
   },
   "outputs": [],
   "source": [
    "X = data.GrLivArea\n",
    "Y = data.SalePrice\n",
    "#add the constant term to the data\n",
    "X = sm.add_constant(X)\n",
    "#define the model\n",
    "model = sm.OLS(Y, X)\n",
    "#fit the model\n",
    "results = model.fit()"
   ]
  },
  {
   "cell_type": "code",
   "execution_count": 14,
   "metadata": {
    "colab": {
     "base_uri": "https://localhost:8080/",
     "height": 322
    },
    "id": "l-jvpbgIP56H",
    "outputId": "b3726d28-d406-4fa5-a47f-74d44e41d79e"
   },
   "outputs": [
    {
     "data": {
      "text/html": [
       "<table class=\"simpletable\">\n",
       "<tr>\n",
       "        <td>Model:</td>               <td>OLS</td>         <td>Adj. R-squared:</td>      <td>0.502</td>  \n",
       "</tr>\n",
       "<tr>\n",
       "  <td>Dependent Variable:</td>     <td>SalePrice</td>           <td>AIC:</td>         <td>36073.7610</td>\n",
       "</tr>\n",
       "<tr>\n",
       "         <td>Date:</td>        <td>2022-09-27 13:44</td>        <td>BIC:</td>         <td>36084.3334</td>\n",
       "</tr>\n",
       "<tr>\n",
       "   <td>No. Observations:</td>        <td>1460</td>         <td>Log-Likelihood:</td>     <td>-18035.</td> \n",
       "</tr>\n",
       "<tr>\n",
       "       <td>Df Model:</td>              <td>1</td>           <td>F-statistic:</td>        <td>1471.</td>  \n",
       "</tr>\n",
       "<tr>\n",
       "     <td>Df Residuals:</td>          <td>1458</td>       <td>Prob (F-statistic):</td>  <td>4.52e-223</td>\n",
       "</tr>\n",
       "<tr>\n",
       "      <td>R-squared:</td>            <td>0.502</td>            <td>Scale:</td>        <td>3.1442e+09</td>\n",
       "</tr>\n",
       "</table>\n",
       "<table class=\"simpletable\">\n",
       "<tr>\n",
       "      <td></td>         <th>Coef.</th>   <th>Std.Err.</th>     <th>t</th>     <th>P>|t|</th>  <th>[0.025</th>     <th>0.975]</th>  \n",
       "</tr>\n",
       "<tr>\n",
       "  <th>const</th>     <td>18569.0259</td> <td>4480.7545</td> <td>4.1442</td>  <td>0.0000</td> <td>9779.6119</td> <td>27358.4399</td>\n",
       "</tr>\n",
       "<tr>\n",
       "  <th>GrLivArea</th>  <td>107.1304</td>   <td>2.7936</td>   <td>38.3482</td> <td>0.0000</td> <td>101.6504</td>   <td>112.6103</td> \n",
       "</tr>\n",
       "</table>\n",
       "<table class=\"simpletable\">\n",
       "<tr>\n",
       "     <td>Omnibus:</td>    <td>261.166</td>  <td>Durbin-Watson:</td>     <td>2.025</td> \n",
       "</tr>\n",
       "<tr>\n",
       "  <td>Prob(Omnibus):</td>  <td>0.000</td>  <td>Jarque-Bera (JB):</td> <td>3432.287</td>\n",
       "</tr>\n",
       "<tr>\n",
       "       <td>Skew:</td>      <td>0.410</td>      <td>Prob(JB):</td>       <td>0.000</td> \n",
       "</tr>\n",
       "<tr>\n",
       "     <td>Kurtosis:</td>   <td>10.467</td>   <td>Condition No.:</td>     <td>4897</td>  \n",
       "</tr>\n",
       "</table>"
      ],
      "text/plain": [
       "<class 'statsmodels.iolib.summary2.Summary'>\n",
       "\"\"\"\n",
       "                  Results: Ordinary least squares\n",
       "===================================================================\n",
       "Model:              OLS              Adj. R-squared:     0.502     \n",
       "Dependent Variable: SalePrice        AIC:                36073.7610\n",
       "Date:               2022-09-27 13:44 BIC:                36084.3334\n",
       "No. Observations:   1460             Log-Likelihood:     -18035.   \n",
       "Df Model:           1                F-statistic:        1471.     \n",
       "Df Residuals:       1458             Prob (F-statistic): 4.52e-223 \n",
       "R-squared:          0.502            Scale:              3.1442e+09\n",
       "-------------------------------------------------------------------\n",
       "             Coef.     Std.Err.    t    P>|t|    [0.025    0.975]  \n",
       "-------------------------------------------------------------------\n",
       "const      18569.0259 4480.7545  4.1442 0.0000 9779.6119 27358.4399\n",
       "GrLivArea    107.1304    2.7936 38.3482 0.0000  101.6504   112.6103\n",
       "-------------------------------------------------------------------\n",
       "Omnibus:             261.166       Durbin-Watson:          2.025   \n",
       "Prob(Omnibus):       0.000         Jarque-Bera (JB):       3432.287\n",
       "Skew:                0.410         Prob(JB):               0.000   \n",
       "Kurtosis:            10.467        Condition No.:          4897    \n",
       "===================================================================\n",
       "* The condition number is large (5e+03). This might indicate\n",
       "strong multicollinearity or other numerical problems.\n",
       "\"\"\""
      ]
     },
     "execution_count": 14,
     "metadata": {},
     "output_type": "execute_result"
    }
   ],
   "source": [
    "#plot the summary of our model\n",
    "results.summary2()"
   ]
  },
  {
   "cell_type": "markdown",
   "metadata": {
    "id": "8Jb7I1Q_P56I"
   },
   "source": [
    "### What do all these stats mean?"
   ]
  },
  {
   "cell_type": "markdown",
   "metadata": {
    "id": "gJFEDWvVP56I"
   },
   "source": [
    "* **const** - the found value for a\n",
    "* **GrLivArea** - the found value for b\n",
    "\n",
    "so that our model is **Y = 18569.0259 + 107.1304 * X**"
   ]
  },
  {
   "cell_type": "markdown",
   "metadata": {
    "id": "bHZkoLLhP56I"
   },
   "source": [
    "**Hypothesis testing and *p-value***\n",
    "\n",
    "$H_0$: coeff = 0 - null hypothesis\n",
    "\n",
    "$H_1$: coeff $\\neq$ 0 - alternative hypothesis\n",
    "\n",
    "* If *p-value* $\\leq$ alpha, then we **CAN** reject the null hypothesis and the coeff is called **significant**\n",
    "* If *p-value* > alpha, then we **CAN NOT** reject the null hypothesis and the coeff is called **insignificant**\n",
    "    \n",
    "    \n",
    "**How to choose a suitable alpha value?**\n",
    "\n",
    "Alphas could be: 0.01, 0.05, 0.1 ... \n",
    "\n",
    "\n",
    "\n",
    "<img src=\"https://drive.google.com/uc?id=1hOljO6iysu6VPtctoRjZVole2qEnTidB\" width=70%>\n",
    "\n",
    "<img src=\"https://drive.google.com/uc?id=1yEiawA_wtaPYIb6n1uEoV8bfw_6ZVTwx\" width=70%>\n",
    "\n"
   ]
  },
  {
   "cell_type": "markdown",
   "metadata": {
    "id": "R98AHV4UP56I"
   },
   "source": [
    "What is the appropriate false positives and false negatives level?\n",
    "\n",
    "The most common alpha for coeffs = 0.05"
   ]
  },
  {
   "cell_type": "markdown",
   "metadata": {
    "id": "MFE1ou1RP56K"
   },
   "source": [
    "#### How well this relation reflects the dependence?\n",
    "**Y = 18569.0259 + 107.1304 * X**\n",
    "\n"
   ]
  },
  {
   "cell_type": "code",
   "execution_count": 15,
   "metadata": {
    "colab": {
     "base_uri": "https://localhost:8080/",
     "height": 458
    },
    "id": "nuNJf6jrP56K",
    "outputId": "08782b04-3c54-4454-8630-d840d242a9ef"
   },
   "outputs": [
    {
     "data": {
      "image/png": "[encoded data removed]",
      "text/plain": [
       "<Figure size 720x504 with 1 Axes>"
      ]
     },
     "metadata": {},
     "output_type": "display_data"
    }
   ],
   "source": [
    "#set size of the plot\n",
    "plt.figure(figsize = (10,7))\n",
    "#scatter plot of the data\n",
    "plt.scatter(data.GrLivArea, data.SalePrice, alpha=0.6, label = 'Original data')\n",
    "#plot of the found regression line\n",
    "plt.plot(data.GrLivArea.values, 18569.0259 + 107.1304 * data.GrLivArea.values, color = 'orchid', label='Model')\n",
    "#text for x axis\n",
    "plt.xlabel('Living area, square feet')\n",
    "#text for y axis\n",
    "plt.ylabel('Sale Price, dollars')\n",
    "#text for the plot title\n",
    "plt.title('Dependence between House Sale Price and Living Area')\n",
    "plt.legend()\n",
    "#show the plot\n",
    "plt.show()"
   ]
  },
  {
   "cell_type": "markdown",
   "metadata": {
    "id": "AZz4LQ71P56K"
   },
   "source": [
    "#### $R^2$ and Regression Performance\n",
    "\n",
    "Another recall from you statistics course =)\n",
    "\n",
    "$R^2$ is the **coefficient of determination**, the most common performance metric for regression problems\n",
    "\n",
    "In case of linear regression, $R^2$ is defined in the following way:\n",
    "\n",
    "* $y_i$ - observed target data\n",
    "* $\\hat{y_i}$ - predicted data\n",
    "* $\\overline{y} = \\frac{1}{n}\\sum_{i=1}^{n}y_i$ - mean of the observed data\n",
    "* $SS_{tot} = \\sum_{i}(y_i - \\overline{y})^2$ - total sum of squares\n",
    "* $SS_{reg} = \\sum_{i}(\\hat{y_i} - \\overline{y})^2$ - explained sum of squares\n",
    "* $SS_{res} = \\sum_{i}(y_i - \\hat{y_i})^2 = \\sum_{i}residual_i^2$ - residual sum of squares\n",
    "\n",
    "$R^2 = \\frac{SS_{reg}}{SS_{tot}} = 1 - \\frac{SS_{res}}{SS_{tot}}$ - the ratio of the explained variance \n",
    "\n",
    "$R^2$ range is [0, 1]\n",
    "\n",
    "In our model, $R^2 = 0.502$, so only a half of the variance is explained"
   ]
  },
  {
   "cell_type": "markdown",
   "metadata": {
    "id": "TuuOsaSTP56K"
   },
   "source": [
    "**Note:** $R^2$ is biased (!) and we should look into $R^2_{adjusted}$"
   ]
  },
  {
   "cell_type": "markdown",
   "metadata": {
    "id": "rI7grhpAP56K"
   },
   "source": [
    "### Can we do better?\n",
    "\n",
    "Let's take logarithms from X and Y, so that our model is **$ln(Y) = a + b*ln(X) + \\epsilon$**"
   ]
  },
  {
   "cell_type": "code",
   "execution_count": 16,
   "metadata": {
    "id": "3llkzCMlP56K"
   },
   "outputs": [],
   "source": [
    "X = data.GrLivArea\n",
    "Y = data.SalePrice\n",
    "X=np.log(X)\n",
    "Y=np.log(Y)\n",
    "#add the constant term to the data\n",
    "X = sm.add_constant(X)\n",
    "#define the model\n",
    "model = sm.OLS(Y, X)\n",
    "#fit the model\n",
    "results = model.fit()"
   ]
  },
  {
   "cell_type": "code",
   "execution_count": 17,
   "metadata": {
    "colab": {
     "base_uri": "https://localhost:8080/",
     "height": 322
    },
    "id": "a7W6uOYFP56L",
    "outputId": "11c46fc5-8846-4719-9e7c-2b1cb74a4a1e"
   },
   "outputs": [
    {
     "data": {
      "text/html": [
       "<table class=\"simpletable\">\n",
       "<tr>\n",
       "        <td>Model:</td>               <td>OLS</td>         <td>Adj. R-squared:</td>     <td>0.533</td>  \n",
       "</tr>\n",
       "<tr>\n",
       "  <td>Dependent Variable:</td>     <td>SalePrice</td>           <td>AIC:</td>         <td>354.1941</td> \n",
       "</tr>\n",
       "<tr>\n",
       "         <td>Date:</td>        <td>2022-09-27 13:45</td>        <td>BIC:</td>         <td>364.7664</td> \n",
       "</tr>\n",
       "<tr>\n",
       "   <td>No. Observations:</td>        <td>1460</td>         <td>Log-Likelihood:</td>    <td>-175.10</td> \n",
       "</tr>\n",
       "<tr>\n",
       "       <td>Df Model:</td>              <td>1</td>           <td>F-statistic:</td>       <td>1666.</td>  \n",
       "</tr>\n",
       "<tr>\n",
       "     <td>Df Residuals:</td>          <td>1458</td>       <td>Prob (F-statistic):</td> <td>1.60e-243</td>\n",
       "</tr>\n",
       "<tr>\n",
       "      <td>R-squared:</td>            <td>0.533</td>            <td>Scale:</td>        <td>0.074523</td> \n",
       "</tr>\n",
       "</table>\n",
       "<table class=\"simpletable\">\n",
       "<tr>\n",
       "      <td></td>       <th>Coef.</th> <th>Std.Err.</th>    <th>t</th>     <th>P>|t|</th> <th>[0.025</th> <th>0.975]</th>\n",
       "</tr>\n",
       "<tr>\n",
       "  <th>const</th>     <td>5.6681</td>  <td>0.1559</td>  <td>36.3601</td> <td>0.0000</td> <td>5.3623</td> <td>5.9739</td>\n",
       "</tr>\n",
       "<tr>\n",
       "  <th>GrLivArea</th> <td>0.8745</td>  <td>0.0214</td>  <td>40.8151</td> <td>0.0000</td> <td>0.8325</td> <td>0.9166</td>\n",
       "</tr>\n",
       "</table>\n",
       "<table class=\"simpletable\">\n",
       "<tr>\n",
       "     <td>Omnibus:</td>    <td>111.954</td>  <td>Durbin-Watson:</td>    <td>2.022</td> \n",
       "</tr>\n",
       "<tr>\n",
       "  <td>Prob(Omnibus):</td>  <td>0.000</td>  <td>Jarque-Bera (JB):</td> <td>184.755</td>\n",
       "</tr>\n",
       "<tr>\n",
       "       <td>Skew:</td>     <td>-0.565</td>      <td>Prob(JB):</td>      <td>0.000</td> \n",
       "</tr>\n",
       "<tr>\n",
       "     <td>Kurtosis:</td>    <td>4.327</td>   <td>Condition No.:</td>     <td>162</td>  \n",
       "</tr>\n",
       "</table>"
      ],
      "text/plain": [
       "<class 'statsmodels.iolib.summary2.Summary'>\n",
       "\"\"\"\n",
       "                 Results: Ordinary least squares\n",
       "==================================================================\n",
       "Model:              OLS              Adj. R-squared:     0.533    \n",
       "Dependent Variable: SalePrice        AIC:                354.1941 \n",
       "Date:               2022-09-27 13:45 BIC:                364.7664 \n",
       "No. Observations:   1460             Log-Likelihood:     -175.10  \n",
       "Df Model:           1                F-statistic:        1666.    \n",
       "Df Residuals:       1458             Prob (F-statistic): 1.60e-243\n",
       "R-squared:          0.533            Scale:              0.074523 \n",
       "--------------------------------------------------------------------\n",
       "              Coef.    Std.Err.      t      P>|t|    [0.025   0.975]\n",
       "--------------------------------------------------------------------\n",
       "const         5.6681     0.1559   36.3601   0.0000   5.3623   5.9739\n",
       "GrLivArea     0.8745     0.0214   40.8151   0.0000   0.8325   0.9166\n",
       "------------------------------------------------------------------\n",
       "Omnibus:             111.954       Durbin-Watson:          2.022  \n",
       "Prob(Omnibus):       0.000         Jarque-Bera (JB):       184.755\n",
       "Skew:                -0.565        Prob(JB):               0.000  \n",
       "Kurtosis:            4.327         Condition No.:          162    \n",
       "==================================================================\n",
       "\n",
       "\"\"\""
      ]
     },
     "execution_count": 17,
     "metadata": {},
     "output_type": "execute_result"
    }
   ],
   "source": [
    "#plot the summary of our model\n",
    "results.summary2()"
   ]
  },
  {
   "cell_type": "code",
   "execution_count": 18,
   "metadata": {
    "colab": {
     "base_uri": "https://localhost:8080/",
     "height": 458
    },
    "id": "ljuuybYJP56L",
    "outputId": "f6198875-164b-4e4c-c958-3b940944b21d"
   },
   "outputs": [
    {
     "data": {
      "image/png": "[encoded data removed]",
      "text/plain": [
       "<Figure size 720x504 with 1 Axes>"
      ]
     },
     "metadata": {},
     "output_type": "display_data"
    }
   ],
   "source": [
    "#set size of the plot\n",
    "plt.figure(figsize = (10,7))\n",
    "#scatter plot of the data\n",
    "plt.scatter(np.log(data.GrLivArea), np.log(data.SalePrice), alpha=0.6, label = 'Original data')\n",
    "#plot of the found regression line\n",
    "plt.plot(np.log(data.GrLivArea.values), 5.6681 + 0.8745 * np.log(data.GrLivArea.values), color = 'orchid', label='Model')\n",
    "#text for x axis\n",
    "plt.xlabel('log(Living area), square feet')\n",
    "#text for y axis\n",
    "plt.ylabel('log(Sale Price), dollars')\n",
    "#text for the plot title\n",
    "plt.title('Dependence between log(House Sale Price) and log(Living Area)')\n",
    "plt.legend()\n",
    "#show the plot\n",
    "plt.show()"
   ]
  },
  {
   "cell_type": "markdown",
   "metadata": {
    "id": "qA5DKp7gP56L"
   },
   "source": [
    "## Multiple Linear Regression"
   ]
  },
  {
   "cell_type": "code",
   "execution_count": 19,
   "metadata": {
    "id": "O-AaKWuGP56L"
   },
   "outputs": [],
   "source": [
    "cols=['Id', 'MSSubClass', 'LotArea', 'OverallQual',\\\n",
    "      'OverallCond', 'YearBuilt', 'YearRemodAdd',\\\n",
    "      'BsmtUnfSF', 'TotalBsmtSF', '1stFlrSF', '2ndFlrSF',\\\n",
    "     'LowQualFinSF', 'GrLivArea', 'BsmtFullBath',\\\n",
    "     'FullBath', 'HalfBath', 'BedroomAbvGr', 'KitchenAbvGr',\\\n",
    "     'TotRmsAbvGrd', 'Fireplaces', 'GarageCars',\\\n",
    "     'GarageArea', 'WoodDeckSF', 'OpenPorchSF', 'EnclosedPorch', '3SsnPorch',\\\n",
    "     'ScreenPorch', 'PoolArea', 'MiscVal', 'MoSold', 'YrSold', 'SalePrice']"
   ]
  },
  {
   "cell_type": "code",
   "execution_count": 20,
   "metadata": {
    "colab": {
     "base_uri": "https://localhost:8080/",
     "height": 257
    },
    "id": "85CM7ZR2P56M",
    "outputId": "f47e3eff-8d47-4418-9b7d-81c2698a4b7e"
   },
   "outputs": [
    {
     "data": {
      "text/html": [
       "<div>\n",
       "<style scoped>\n",
       "    .dataframe tbody tr th:only-of-type {\n",
       "        vertical-align: middle;\n",
       "    }\n",
       "\n",
       "    .dataframe tbody tr th {\n",
       "        vertical-align: top;\n",
       "    }\n",
       "\n",
       "    .dataframe thead th {\n",
       "        text-align: right;\n",
       "    }\n",
       "</style>\n",
       "<table border=\"1\" class=\"dataframe\">\n",
       "  <thead>\n",
       "    <tr style=\"text-align: right;\">\n",
       "      <th></th>\n",
       "      <th>MSSubClass</th>\n",
       "      <th>LotArea</th>\n",
       "      <th>OverallQual</th>\n",
       "      <th>OverallCond</th>\n",
       "      <th>YearBuilt</th>\n",
       "      <th>YearRemodAdd</th>\n",
       "      <th>BsmtUnfSF</th>\n",
       "      <th>TotalBsmtSF</th>\n",
       "      <th>1stFlrSF</th>\n",
       "      <th>2ndFlrSF</th>\n",
       "      <th>...</th>\n",
       "      <th>WoodDeckSF</th>\n",
       "      <th>OpenPorchSF</th>\n",
       "      <th>EnclosedPorch</th>\n",
       "      <th>3SsnPorch</th>\n",
       "      <th>ScreenPorch</th>\n",
       "      <th>PoolArea</th>\n",
       "      <th>MiscVal</th>\n",
       "      <th>MoSold</th>\n",
       "      <th>YrSold</th>\n",
       "      <th>SalePrice</th>\n",
       "    </tr>\n",
       "    <tr>\n",
       "      <th>Id</th>\n",
       "      <th></th>\n",
       "      <th></th>\n",
       "      <th></th>\n",
       "      <th></th>\n",
       "      <th></th>\n",
       "      <th></th>\n",
       "      <th></th>\n",
       "      <th></th>\n",
       "      <th></th>\n",
       "      <th></th>\n",
       "      <th></th>\n",
       "      <th></th>\n",
       "      <th></th>\n",
       "      <th></th>\n",
       "      <th></th>\n",
       "      <th></th>\n",
       "      <th></th>\n",
       "      <th></th>\n",
       "      <th></th>\n",
       "      <th></th>\n",
       "      <th></th>\n",
       "    </tr>\n",
       "  </thead>\n",
       "  <tbody>\n",
       "    <tr>\n",
       "      <th>1</th>\n",
       "      <td>60</td>\n",
       "      <td>8450</td>\n",
       "      <td>7</td>\n",
       "      <td>5</td>\n",
       "      <td>2003</td>\n",
       "      <td>2003</td>\n",
       "      <td>150</td>\n",
       "      <td>856</td>\n",
       "      <td>856</td>\n",
       "      <td>854</td>\n",
       "      <td>...</td>\n",
       "      <td>0</td>\n",
       "      <td>61</td>\n",
       "      <td>0</td>\n",
       "      <td>0</td>\n",
       "      <td>0</td>\n",
       "      <td>0</td>\n",
       "      <td>0</td>\n",
       "      <td>2</td>\n",
       "      <td>2008</td>\n",
       "      <td>208500</td>\n",
       "    </tr>\n",
       "    <tr>\n",
       "      <th>2</th>\n",
       "      <td>20</td>\n",
       "      <td>9600</td>\n",
       "      <td>6</td>\n",
       "      <td>8</td>\n",
       "      <td>1976</td>\n",
       "      <td>1976</td>\n",
       "      <td>284</td>\n",
       "      <td>1262</td>\n",
       "      <td>1262</td>\n",
       "      <td>0</td>\n",
       "      <td>...</td>\n",
       "      <td>298</td>\n",
       "      <td>0</td>\n",
       "      <td>0</td>\n",
       "      <td>0</td>\n",
       "      <td>0</td>\n",
       "      <td>0</td>\n",
       "      <td>0</td>\n",
       "      <td>5</td>\n",
       "      <td>2007</td>\n",
       "      <td>181500</td>\n",
       "    </tr>\n",
       "    <tr>\n",
       "      <th>3</th>\n",
       "      <td>60</td>\n",
       "      <td>11250</td>\n",
       "      <td>7</td>\n",
       "      <td>5</td>\n",
       "      <td>2001</td>\n",
       "      <td>2002</td>\n",
       "      <td>434</td>\n",
       "      <td>920</td>\n",
       "      <td>920</td>\n",
       "      <td>866</td>\n",
       "      <td>...</td>\n",
       "      <td>0</td>\n",
       "      <td>42</td>\n",
       "      <td>0</td>\n",
       "      <td>0</td>\n",
       "      <td>0</td>\n",
       "      <td>0</td>\n",
       "      <td>0</td>\n",
       "      <td>9</td>\n",
       "      <td>2008</td>\n",
       "      <td>223500</td>\n",
       "    </tr>\n",
       "    <tr>\n",
       "      <th>4</th>\n",
       "      <td>70</td>\n",
       "      <td>9550</td>\n",
       "      <td>7</td>\n",
       "      <td>5</td>\n",
       "      <td>1915</td>\n",
       "      <td>1970</td>\n",
       "      <td>540</td>\n",
       "      <td>756</td>\n",
       "      <td>961</td>\n",
       "      <td>756</td>\n",
       "      <td>...</td>\n",
       "      <td>0</td>\n",
       "      <td>35</td>\n",
       "      <td>272</td>\n",
       "      <td>0</td>\n",
       "      <td>0</td>\n",
       "      <td>0</td>\n",
       "      <td>0</td>\n",
       "      <td>2</td>\n",
       "      <td>2006</td>\n",
       "      <td>140000</td>\n",
       "    </tr>\n",
       "    <tr>\n",
       "      <th>5</th>\n",
       "      <td>60</td>\n",
       "      <td>14260</td>\n",
       "      <td>8</td>\n",
       "      <td>5</td>\n",
       "      <td>2000</td>\n",
       "      <td>2000</td>\n",
       "      <td>490</td>\n",
       "      <td>1145</td>\n",
       "      <td>1145</td>\n",
       "      <td>1053</td>\n",
       "      <td>...</td>\n",
       "      <td>192</td>\n",
       "      <td>84</td>\n",
       "      <td>0</td>\n",
       "      <td>0</td>\n",
       "      <td>0</td>\n",
       "      <td>0</td>\n",
       "      <td>0</td>\n",
       "      <td>12</td>\n",
       "      <td>2008</td>\n",
       "      <td>250000</td>\n",
       "    </tr>\n",
       "  </tbody>\n",
       "</table>\n",
       "<p>5 rows × 31 columns</p>\n",
       "</div>"
      ],
      "text/plain": [
       "    MSSubClass  LotArea  OverallQual  OverallCond  YearBuilt  YearRemodAdd  \\\n",
       "Id                                                                           \n",
       "1           60     8450            7            5       2003          2003   \n",
       "2           20     9600            6            8       1976          1976   \n",
       "3           60    11250            7            5       2001          2002   \n",
       "4           70     9550            7            5       1915          1970   \n",
       "5           60    14260            8            5       2000          2000   \n",
       "\n",
       "    BsmtUnfSF  TotalBsmtSF  1stFlrSF  2ndFlrSF  ...  WoodDeckSF  OpenPorchSF  \\\n",
       "Id                                              ...                            \n",
       "1         150          856       856       854  ...           0           61   \n",
       "2         284         1262      1262         0  ...         298            0   \n",
       "3         434          920       920       866  ...           0           42   \n",
       "4         540          756       961       756  ...           0           35   \n",
       "5         490         1145      1145      1053  ...         192           84   \n",
       "\n",
       "    EnclosedPorch  3SsnPorch  ScreenPorch  PoolArea  MiscVal  MoSold  YrSold  \\\n",
       "Id                                                                             \n",
       "1               0          0            0         0        0       2    2008   \n",
       "2               0          0            0         0        0       5    2007   \n",
       "3               0          0            0         0        0       9    2008   \n",
       "4             272          0            0         0        0       2    2006   \n",
       "5               0          0            0         0        0      12    2008   \n",
       "\n",
       "    SalePrice  \n",
       "Id             \n",
       "1      208500  \n",
       "2      181500  \n",
       "3      223500  \n",
       "4      140000  \n",
       "5      250000  \n",
       "\n",
       "[5 rows x 31 columns]"
      ]
     },
     "execution_count": 20,
     "metadata": {},
     "output_type": "execute_result"
    }
   ],
   "source": [
    "data = pd.read_csv(filename, index_col=0, usecols=cols)\n",
    "data.head()"
   ]
  },
  {
   "cell_type": "markdown",
   "metadata": {
    "id": "MXDwt5amP56N"
   },
   "source": [
    "Check for Nan values:"
   ]
  },
  {
   "cell_type": "code",
   "execution_count": 21,
   "metadata": {
    "colab": {
     "base_uri": "https://localhost:8080/"
    },
    "id": "Z-Y1YlWhP56N",
    "outputId": "b87e7f34-b83f-4a07-f32d-a30062bf00b9"
   },
   "outputs": [
    {
     "data": {
      "text/plain": [
       "0"
      ]
     },
     "execution_count": 21,
     "metadata": {},
     "output_type": "execute_result"
    }
   ],
   "source": [
    "data.isna().sum().sum()"
   ]
  },
  {
   "cell_type": "markdown",
   "metadata": {
    "id": "WTNy4bhMP56N"
   },
   "source": [
    "### Define the model"
   ]
  },
  {
   "cell_type": "code",
   "execution_count": 22,
   "metadata": {
    "id": "sm2hl0kKP56N"
   },
   "outputs": [],
   "source": [
    "X = data.drop('SalePrice', axis=1)\n",
    "Y = data.SalePrice\n",
    "#add the constant term to the data\n",
    "X = sm.add_constant(X)\n",
    "#define the model\n",
    "model = sm.OLS(Y, X)\n",
    "#fit the model\n",
    "results = model.fit()"
   ]
  },
  {
   "cell_type": "markdown",
   "metadata": {
    "id": "Jp0ut9liP56N"
   },
   "source": [
    "Calculate some statistical parameters:"
   ]
  },
  {
   "cell_type": "code",
   "execution_count": 23,
   "metadata": {
    "colab": {
     "base_uri": "https://localhost:8080/"
    },
    "id": "ChlwMg8qP56N",
    "outputId": "ce719a2d-6bd2-44e6-ef53-c5e668614f8c"
   },
   "outputs": [
    {
     "name": "stdout",
     "output_type": "stream",
     "text": [
      " the number of paraters to estimate: 31 \n",
      " total number of observations: 1460 \n",
      " degrees of freedom of the model: 30 \n",
      " degrees of freedom of the errors: 1429\n"
     ]
    }
   ],
   "source": [
    "#together with the intercept\n",
    "k = X.shape[1]\n",
    "#total number of observations\n",
    "n = X.shape[0]\n",
    "#degrees of freedom for the model:\n",
    "df_model = k - 1\n",
    "#degrees of freedom of the error:\n",
    "df_error = n - k\n",
    "print(' the number of paraters to estimate: {} \\n total number of observations: {} \\n degrees of freedom of the model: {} \\n degrees of freedom of the errors: {}'\\\n",
    "      .format(k, n, df_model, df_error))"
   ]
  },
  {
   "cell_type": "markdown",
   "metadata": {
    "id": "EqJpay2bP56N"
   },
   "source": [
    "Calculate the rank of feature matrix:"
   ]
  },
  {
   "cell_type": "code",
   "execution_count": 24,
   "metadata": {
    "colab": {
     "base_uri": "https://localhost:8080/"
    },
    "id": "cnosVATGP56N",
    "outputId": "18781d3b-fd80-4d60-a818-2c01bb731862"
   },
   "outputs": [
    {
     "data": {
      "text/plain": [
       "30"
      ]
     },
     "execution_count": 24,
     "metadata": {},
     "output_type": "execute_result"
    }
   ],
   "source": [
    "np.linalg.matrix_rank(X)"
   ]
  },
  {
   "cell_type": "code",
   "execution_count": 25,
   "metadata": {
    "colab": {
     "base_uri": "https://localhost:8080/",
     "height": 942
    },
    "id": "AtMo9gEcP56O",
    "outputId": "cf835ff3-7555-44a4-bbb8-5f04831ae7bf"
   },
   "outputs": [
    {
     "data": {
      "text/html": [
       "<table class=\"simpletable\">\n",
       "<tr>\n",
       "        <td>Model:</td>               <td>OLS</td>         <td>Adj. R-squared:</td>      <td>0.804</td>  \n",
       "</tr>\n",
       "<tr>\n",
       "  <td>Dependent Variable:</td>     <td>SalePrice</td>           <td>AIC:</td>         <td>34737.9309</td>\n",
       "</tr>\n",
       "<tr>\n",
       "         <td>Date:</td>        <td>2022-09-27 13:45</td>        <td>BIC:</td>         <td>34896.5166</td>\n",
       "</tr>\n",
       "<tr>\n",
       "   <td>No. Observations:</td>        <td>1460</td>         <td>Log-Likelihood:</td>     <td>-17339.</td> \n",
       "</tr>\n",
       "<tr>\n",
       "       <td>Df Model:</td>             <td>29</td>           <td>F-statistic:</td>        <td>207.6</td>  \n",
       "</tr>\n",
       "<tr>\n",
       "     <td>Df Residuals:</td>          <td>1430</td>       <td>Prob (F-statistic):</td>    <td>0.00</td>   \n",
       "</tr>\n",
       "<tr>\n",
       "      <td>R-squared:</td>            <td>0.808</td>            <td>Scale:</td>        <td>1.2357e+09</td>\n",
       "</tr>\n",
       "</table>\n",
       "<table class=\"simpletable\">\n",
       "<tr>\n",
       "        <td></td>           <th>Coef.</th>      <th>Std.Err.</th>      <th>t</th>     <th>P>|t|</th>    <th>[0.025</th>        <th>0.975]</th>   \n",
       "</tr>\n",
       "<tr>\n",
       "  <th>const</th>         <td>608246.1995</td> <td>1428003.7488</td> <td>0.4259</td>  <td>0.6702</td> <td>-2192960.6498</td> <td>3409453.0488</td>\n",
       "</tr>\n",
       "<tr>\n",
       "  <th>MSSubClass</th>     <td>-161.5055</td>     <td>26.4469</td>   <td>-6.1068</td> <td>0.0000</td>   <td>-213.3845</td>     <td>-109.6266</td> \n",
       "</tr>\n",
       "<tr>\n",
       "  <th>LotArea</th>         <td>0.3868</td>       <td>0.1016</td>    <td>3.8079</td>  <td>0.0001</td>    <td>0.1875</td>        <td>0.5860</td>   \n",
       "</tr>\n",
       "<tr>\n",
       "  <th>OverallQual</th>   <td>18012.7658</td>    <td>1194.9364</td>  <td>15.0742</td> <td>0.0000</td>  <td>15668.7495</td>    <td>20356.7821</td> \n",
       "</tr>\n",
       "<tr>\n",
       "  <th>OverallCond</th>    <td>4425.5378</td>    <td>1031.1020</td>  <td>4.2920</td>  <td>0.0000</td>   <td>2402.9031</td>     <td>6448.1725</td> \n",
       "</tr>\n",
       "<tr>\n",
       "  <th>YearBuilt</th>      <td>349.4880</td>      <td>61.2239</td>   <td>5.7084</td>  <td>0.0000</td>   <td>229.3896</td>      <td>469.5863</td>  \n",
       "</tr>\n",
       "<tr>\n",
       "  <th>YearRemodAdd</th>   <td>140.9941</td>      <td>66.3557</td>   <td>2.1248</td>  <td>0.0338</td>    <td>10.8292</td>      <td>271.1590</td>  \n",
       "</tr>\n",
       "<tr>\n",
       "  <th>BsmtUnfSF</th>       <td>-9.7412</td>      <td>3.1432</td>    <td>-3.0991</td> <td>0.0020</td>   <td>-15.9070</td>       <td>-3.5754</td>  \n",
       "</tr>\n",
       "<tr>\n",
       "  <th>TotalBsmtSF</th>     <td>20.5078</td>      <td>4.5849</td>    <td>4.4729</td>  <td>0.0000</td>    <td>11.5140</td>       <td>29.5016</td>  \n",
       "</tr>\n",
       "<tr>\n",
       "  <th>1stFlrSF</th>        <td>18.9417</td>      <td>6.1645</td>    <td>3.0727</td>  <td>0.0022</td>    <td>6.8492</td>        <td>31.0341</td>  \n",
       "</tr>\n",
       "<tr>\n",
       "  <th>2ndFlrSF</th>        <td>19.5079</td>      <td>5.7011</td>    <td>3.4218</td>  <td>0.0006</td>    <td>8.3244</td>        <td>30.6914</td>  \n",
       "</tr>\n",
       "<tr>\n",
       "  <th>LowQualFinSF</th>    <td>-6.7807</td>      <td>14.8869</td>   <td>-0.4555</td> <td>0.6488</td>   <td>-35.9831</td>       <td>22.4218</td>  \n",
       "</tr>\n",
       "<tr>\n",
       "  <th>GrLivArea</th>       <td>31.6689</td>      <td>5.7075</td>    <td>5.5486</td>  <td>0.0000</td>    <td>20.4729</td>       <td>42.8650</td>  \n",
       "</tr>\n",
       "<tr>\n",
       "  <th>BsmtFullBath</th>   <td>8400.0052</td>    <td>2512.7996</td>  <td>3.3429</td>  <td>0.0009</td>   <td>3470.8365</td>    <td>13329.1738</td> \n",
       "</tr>\n",
       "<tr>\n",
       "  <th>FullBath</th>       <td>3414.1786</td>    <td>2838.1391</td>  <td>1.2030</td>  <td>0.2292</td>  <td>-2153.1840</td>     <td>8981.5413</td> \n",
       "</tr>\n",
       "<tr>\n",
       "  <th>HalfBath</th>      <td>-1549.1048</td>    <td>2690.0026</td>  <td>-0.5759</td> <td>0.5648</td>  <td>-6825.8793</td>     <td>3727.6697</td> \n",
       "</tr>\n",
       "<tr>\n",
       "  <th>BedroomAbvGr</th>  <td>-10546.9569</td>   <td>1704.6005</td>  <td>-6.1873</td> <td>0.0000</td>  <td>-13890.7426</td>   <td>-7203.1712</td> \n",
       "</tr>\n",
       "<tr>\n",
       "  <th>KitchenAbvGr</th>  <td>-12589.7919</td>   <td>5254.5163</td>  <td>-2.3960</td> <td>0.0167</td>  <td>-22897.1787</td>   <td>-2282.4051</td> \n",
       "</tr>\n",
       "<tr>\n",
       "  <th>TotRmsAbvGrd</th>   <td>5095.3485</td>    <td>1250.1490</td>  <td>4.0758</td>  <td>0.0000</td>   <td>2643.0258</td>     <td>7547.6713</td> \n",
       "</tr>\n",
       "<tr>\n",
       "  <th>Fireplaces</th>     <td>3707.1220</td>    <td>1784.0235</td>  <td>2.0780</td>  <td>0.0379</td>   <td>207.5382</td>      <td>7206.7058</td> \n",
       "</tr>\n",
       "<tr>\n",
       "  <th>GarageCars</th>    <td>10562.3784</td>    <td>2884.3767</td>  <td>3.6619</td>  <td>0.0003</td>   <td>4904.3150</td>    <td>16220.4418</td> \n",
       "</tr>\n",
       "<tr>\n",
       "  <th>GarageArea</th>      <td>2.1462</td>       <td>9.7916</td>    <td>0.2192</td>  <td>0.8265</td>   <td>-17.0613</td>       <td>21.3537</td>  \n",
       "</tr>\n",
       "<tr>\n",
       "  <th>WoodDeckSF</th>      <td>25.7208</td>      <td>8.0357</td>    <td>3.2008</td>  <td>0.0014</td>    <td>9.9578</td>        <td>41.4838</td>  \n",
       "</tr>\n",
       "<tr>\n",
       "  <th>OpenPorchSF</th>     <td>-6.2873</td>      <td>15.3029</td>   <td>-0.4109</td> <td>0.6812</td>   <td>-36.3058</td>       <td>23.7312</td>  \n",
       "</tr>\n",
       "<tr>\n",
       "  <th>EnclosedPorch</th>   <td>6.6916</td>       <td>17.0190</td>   <td>0.3932</td>  <td>0.6942</td>   <td>-26.6932</td>       <td>40.0765</td>  \n",
       "</tr>\n",
       "<tr>\n",
       "  <th>3SsnPorch</th>       <td>21.6727</td>      <td>31.6870</td>   <td>0.6840</td>  <td>0.4941</td>   <td>-40.4854</td>       <td>83.8308</td>  \n",
       "</tr>\n",
       "<tr>\n",
       "  <th>ScreenPorch</th>     <td>55.1441</td>      <td>17.3306</td>   <td>3.1819</td>  <td>0.0015</td>    <td>21.1479</td>       <td>89.1403</td>  \n",
       "</tr>\n",
       "<tr>\n",
       "  <th>PoolArea</th>       <td>-42.4124</td>      <td>23.8035</td>   <td>-1.7818</td> <td>0.0750</td>   <td>-89.1059</td>       <td>4.2810</td>   \n",
       "</tr>\n",
       "<tr>\n",
       "  <th>MiscVal</th>         <td>-0.8946</td>      <td>1.8753</td>    <td>-0.4770</td> <td>0.6334</td>    <td>-4.5731</td>       <td>2.7840</td>   \n",
       "</tr>\n",
       "<tr>\n",
       "  <th>MoSold</th>         <td>-111.5227</td>    <td>348.4163</td>   <td>-0.3201</td> <td>0.7490</td>   <td>-794.9846</td>     <td>571.9391</td>  \n",
       "</tr>\n",
       "<tr>\n",
       "  <th>YrSold</th>         <td>-817.2240</td>    <td>709.7266</td>   <td>-1.1515</td> <td>0.2497</td>  <td>-2209.4410</td>     <td>574.9931</td>  \n",
       "</tr>\n",
       "</table>\n",
       "<table class=\"simpletable\">\n",
       "<tr>\n",
       "     <td>Omnibus:</td>    <td>540.774</td>  <td>Durbin-Watson:</td>         <td>1.961</td>      \n",
       "</tr>\n",
       "<tr>\n",
       "  <td>Prob(Omnibus):</td>  <td>0.000</td>  <td>Jarque-Bera (JB):</td>     <td>95836.983</td>    \n",
       "</tr>\n",
       "<tr>\n",
       "       <td>Skew:</td>     <td>-0.553</td>      <td>Prob(JB):</td>           <td>0.000</td>      \n",
       "</tr>\n",
       "<tr>\n",
       "     <td>Kurtosis:</td>   <td>42.676</td>   <td>Condition No.:</td>   <td>13129423541445018</td>\n",
       "</tr>\n",
       "</table>"
      ],
      "text/plain": [
       "<class 'statsmodels.iolib.summary2.Summary'>\n",
       "\"\"\"\n",
       "                        Results: Ordinary least squares\n",
       "================================================================================\n",
       "Model:                   OLS                  Adj. R-squared:         0.804     \n",
       "Dependent Variable:      SalePrice            AIC:                    34737.9309\n",
       "Date:                    2022-09-27 13:45     BIC:                    34896.5166\n",
       "No. Observations:        1460                 Log-Likelihood:         -17339.   \n",
       "Df Model:                29                   F-statistic:            207.6     \n",
       "Df Residuals:            1430                 Prob (F-statistic):     0.00      \n",
       "R-squared:               0.808                Scale:                  1.2357e+09\n",
       "--------------------------------------------------------------------------------\n",
       "                 Coef.      Std.Err.      t    P>|t|      [0.025       0.975]   \n",
       "--------------------------------------------------------------------------------\n",
       "const         608246.1995 1428003.7488  0.4259 0.6702 -2192960.6498 3409453.0488\n",
       "MSSubClass      -161.5055      26.4469 -6.1068 0.0000     -213.3845    -109.6266\n",
       "LotArea            0.3868       0.1016  3.8079 0.0001        0.1875       0.5860\n",
       "OverallQual    18012.7658    1194.9364 15.0742 0.0000    15668.7495   20356.7821\n",
       "OverallCond     4425.5378    1031.1020  4.2920 0.0000     2402.9031    6448.1725\n",
       "YearBuilt        349.4880      61.2239  5.7084 0.0000      229.3896     469.5863\n",
       "YearRemodAdd     140.9941      66.3557  2.1248 0.0338       10.8292     271.1590\n",
       "BsmtUnfSF         -9.7412       3.1432 -3.0991 0.0020      -15.9070      -3.5754\n",
       "TotalBsmtSF       20.5078       4.5849  4.4729 0.0000       11.5140      29.5016\n",
       "1stFlrSF          18.9417       6.1645  3.0727 0.0022        6.8492      31.0341\n",
       "2ndFlrSF          19.5079       5.7011  3.4218 0.0006        8.3244      30.6914\n",
       "LowQualFinSF      -6.7807      14.8869 -0.4555 0.6488      -35.9831      22.4218\n",
       "GrLivArea         31.6689       5.7075  5.5486 0.0000       20.4729      42.8650\n",
       "BsmtFullBath    8400.0052    2512.7996  3.3429 0.0009     3470.8365   13329.1738\n",
       "FullBath        3414.1786    2838.1391  1.2030 0.2292    -2153.1840    8981.5413\n",
       "HalfBath       -1549.1048    2690.0026 -0.5759 0.5648    -6825.8793    3727.6697\n",
       "BedroomAbvGr  -10546.9569    1704.6005 -6.1873 0.0000   -13890.7426   -7203.1712\n",
       "KitchenAbvGr  -12589.7919    5254.5163 -2.3960 0.0167   -22897.1787   -2282.4051\n",
       "TotRmsAbvGrd    5095.3485    1250.1490  4.0758 0.0000     2643.0258    7547.6713\n",
       "Fireplaces      3707.1220    1784.0235  2.0780 0.0379      207.5382    7206.7058\n",
       "GarageCars     10562.3784    2884.3767  3.6619 0.0003     4904.3150   16220.4418\n",
       "GarageArea         2.1462       9.7916  0.2192 0.8265      -17.0613      21.3537\n",
       "WoodDeckSF        25.7208       8.0357  3.2008 0.0014        9.9578      41.4838\n",
       "OpenPorchSF       -6.2873      15.3029 -0.4109 0.6812      -36.3058      23.7312\n",
       "EnclosedPorch      6.6916      17.0190  0.3932 0.6942      -26.6932      40.0765\n",
       "3SsnPorch         21.6727      31.6870  0.6840 0.4941      -40.4854      83.8308\n",
       "ScreenPorch       55.1441      17.3306  3.1819 0.0015       21.1479      89.1403\n",
       "PoolArea         -42.4124      23.8035 -1.7818 0.0750      -89.1059       4.2810\n",
       "MiscVal           -0.8946       1.8753 -0.4770 0.6334       -4.5731       2.7840\n",
       "MoSold          -111.5227     348.4163 -0.3201 0.7490     -794.9846     571.9391\n",
       "YrSold          -817.2240     709.7266 -1.1515 0.2497    -2209.4410     574.9931\n",
       "--------------------------------------------------------------------------------\n",
       "Omnibus:               540.774        Durbin-Watson:           1.961            \n",
       "Prob(Omnibus):         0.000          Jarque-Bera (JB):        95836.983        \n",
       "Skew:                  -0.553         Prob(JB):                0.000            \n",
       "Kurtosis:              42.676         Condition No.:           13129423541445018\n",
       "================================================================================\n",
       "* The condition number is large (1e+16). This might indicate             strong\n",
       "multicollinearity or other numerical problems.\n",
       "\"\"\""
      ]
     },
     "execution_count": 25,
     "metadata": {},
     "output_type": "execute_result"
    }
   ],
   "source": [
    "results.summary2()"
   ]
  },
  {
   "cell_type": "markdown",
   "metadata": {
    "id": "lCzI1gQxP56O"
   },
   "source": [
    "**Resuls explanation:**\n",
    "\n",
    "* $R^2 = 0.808$\n",
    "* $R^2_{adj} = 0.804$\n",
    "* Log-Likelihood = -1733 - A value of Likelihood function in the optimal point\n",
    "* AIC = 34738 - Akaike information criterion, is used for model selection purposes. Preferred model is the one with the minimum AIC value\n",
    "* BIC = 34897 - Bayesian information criterion, the same purposes as for AIC\n",
    "* F-statistic = 208\n",
    "\n",
    "**F- Test for the overall model significance**:\n",
    "\n",
    "$H_{0}$ : The fit of intercept only model and the current model is same. i.e. Additional variables do not provide value taken together\n",
    "\n",
    "$H_{1}$ : The fit of intercept only model is significantly less compared to our current model. i.e. Additional variables do make the model significantly better.\n",
    "\n",
    "$F = \\frac{R^2/(k-1)}{(1-R^2)/(n-k)}$,\n",
    "\n",
    "where $k$ - the number of variables (with intercept term), $n$ - the number of observations\n",
    "\n",
    "\n",
    "If the calculated F-value is greater than the F value from the statistical table, than we can reject the $H_{0}$ hypothesis\n",
    "\n",
    "* Prob(F-statistic) = 0.0 - P-value for F-test\n",
    "* Df model - degrees of freedom of the model\n",
    "* Df Residuals - degrees of freedom of the errors\n",
    "\n",
    "**Note:** don't be confused with the values of Df (!). THe true values is calculated above. In this specific realization of OLS, DF model is calculated as a rank of the X matrix, which equals to 29\n",
    "\n",
    "* Scale - squared standard error of the regression\n",
    "\n",
    "* Durbin-Watson = 1.96; DW is a test for autocorrelation of the errors. DW value always lies between 0 and 4. If , DW << 2 there is a positive serial correlation, if DW >> 2 - there is a negative correlation\n"
   ]
  },
  {
   "cell_type": "markdown",
   "metadata": {
    "id": "a_Src83oP56O"
   },
   "source": [
    "**Note:** not all the variables are significant. What should we do next? There is a number of methods (a.k.a. Feature engineering):\n",
    "\n",
    "* **Elimination by P-value:**\n",
    "\n",
    "Build a model using a full set of features. Then, eliminate the insignificant features sequentially starting from the one with the highest P-value\n",
    "\n",
    "* **Forward elimination:**\n",
    "\n",
    "Build all possible regression models with a single predictor and pick the best one. Then try all possible models that include that best predictor plus a second predictor. Pick the best of those. You keep adding one feature at a time, and you stop when your model no longer improves or starts worsening. \n",
    "\n",
    "* **Backward elimination:**\n",
    "\n",
    "Build a regression model that includes a full set of predictors. Next, gradually remove one at a time according to the predictor whose removal makes the biggest improvement. You stop removing predictors when the removal makes the predictive model worsen."
   ]
  },
  {
   "cell_type": "markdown",
   "metadata": {
    "id": "sSztQc0MP56O"
   },
   "source": [
    "### Task 1: \n",
    "\n",
    "* Find collinear variables and leave only one of them "
   ]
  },
  {
   "cell_type": "markdown",
   "metadata": {
    "id": "-cAPFbD7P56P"
   },
   "source": [
    "### Task 2: Implement feature elimination by P-value\n",
    "\n",
    "**Hints**:\n",
    "    * use cycles\n",
    "    * look to the score values (Note: R^2 is biased) and P-values of the corresponding coefficients\n",
    "    * constant term should be included \n",
    "    \n",
    "**Note:** The insignificant variable in a model could become significant in another model and vice versa\n",
    "\n",
    "**Note 2:** Two estimated models with different features are two distinct models (!)"
   ]
  },
  {
   "cell_type": "markdown",
   "metadata": {
    "id": "Ml5z_maPP56P"
   },
   "source": [
    "## Multiple regression with sklearn"
   ]
  },
  {
   "cell_type": "markdown",
   "metadata": {
    "id": "v0yfiLQfP56Q"
   },
   "source": [
    "* [`LinearRegression`](https://scikit-learn.org/stable/modules/generated/sklearn.linear_model.LinearRegression.html) &mdash; \"classical\" linear regression with MSE. Exact solution: $w^* = (X^TX)^{-1}X^Ty$\n",
    "* [`Ridge`](https://scikit-learn.org/stable/modules/generated/sklearn.linear_model.Ridge.html) &mdash; linear regression with MSE optimization and $\\ell_2$-regularization\n",
    "* [`Lasso`](https://scikit-learn.org/stable/modules/generated/sklearn.linear_model.Lasso.html) &mdash; linear regression with MSE optimization and $\\ell_1$-regularization"
   ]
  },
  {
   "cell_type": "markdown",
   "metadata": {
    "id": "8Gpx-oSwP56Q"
   },
   "source": [
    "## Regularization\n",
    "\n",
    "* Insert additional requirement for regularizer $R(\\beta)$ to be small:\n",
    "$$\n",
    "\\sum_{n=1}^{N}\\left(x_{n}^{T}\\beta-y_{n}\\right)^{2}+\\lambda R(\\beta)\\to\\min_{\\beta}\n",
    "$$\n",
    "* $\\lambda>0$ - hyperparameter.\n",
    "* $R(\\beta)$ penalizes complexity of models.\n",
    "$$\n",
    "\\begin{array}{ll}\n",
    "R(\\beta)=||\\beta||_{1} &  \\mbox{(L1) Lasso regression}\\\\\n",
    "R(\\beta)=||\\beta||_{2}^{2} & \\text{(L2) Ridge regression}\n",
    "\\end{array}\n",
    "$$\n",
    "\n",
    "<img src=\"https://drive.google.com/uc?id=1WIONg5WAtiV4jKjmOA2Zn_B4uPAVPp6y\" width=70%>\n",
    "\n",
    "* Not only **accuracy** matters for the solution but also **model simplicity**!\n",
    "* $\\lambda$ controls complexity of the model:$\\uparrow\\lambda\\Leftrightarrow\\text{complexity}$$\\downarrow$.\n",
    "\n",
    "\n",
    "### Types of regularization: Ridge regression\n",
    "\n",
    "Ridge regression minimizes a slightly different function:\n",
    "\n",
    "$$\\Large J(X, y, \\beta) = \\mathcal{L} + \\lambda \\sum_j\\beta_j^2$$\n",
    "\n",
    "- $\\mathcal{L}$ is the logistic loss function summed over the entire dataset\n",
    "- $\\lambda \\sum_j\\beta_j^2$ is calles $l_2$ penalty\n",
    "\n",
    "\n",
    "where $\\lambda ≥ 0$ is a tuning parameter, to be determined separately. As with least squares, ridge regression seeks coefficient estimates that fit the data well, by making the RSS small. However, the second term, $\\lambda |\\beta|^2$ , called a *shrinkage penalty*, is small when betas are close to zero, and so it has the effect of shrinking penalty the estimates of $\\beta_j$ towards zero. The tuning parameter $\\lambda$ serves to control\n",
    "the relative impact of these two terms on the regression coefficient estimates. When $\\lambda = 0$, the penalty term has no effect, and ridge regression will produce the least squares estimates. However, as $\\lambda$ increases the impact of the shrinkage penalty grows, and the ridge regression coefficient estimates will approach zero.\n",
    "\n",
    "### Types of Regularization: Lasso regression\n",
    "\n",
    "Ridge regression does have one obvious disadvantage. It does not do feature selection. Ridge regression\n",
    "will include all p predictors in the final model. The penalty $\\lambda |\\beta|^2$ will shrink all of the coefficients towards zero, but it will not set any of them exactly to zero. This may not be a problem for prediction accuracy, but it can create a challenge in model interpretation in settings in which the number of variables p is quite large. \n",
    "\n",
    "The lasso is an alternative to ridge regression that overcomes this disadvantage. The lasso minimizes the following function:\n",
    "\n",
    "\n",
    "$$\\Large J(X, y, \\beta) = \\mathcal{L} + \\lambda \\sum_j|\\beta_j|$$\n",
    "\n",
    "- $\\mathcal{L}$ is the logistic loss function summed over the entire dataset\n",
    "- $\\lambda \\sum_j|\\beta_j|$ is calles $l_1$ penalty\n",
    "\n",
    "The lasso and ridge regression have similar formulations. The only difference is that the $\\lambda\\sum_j\\beta_j^2 $ term in the ridge regression penalty has been replaced by $\\lambda\\sum_j|\\beta_j|$ in the lasso penalty.\n",
    "\n",
    "As with ridge regression, the lasso shrinks the coefficient estimates towards zero. However, in the case of the lasso, the penalty has the effect of forcing some of the coefficient estimates to be exactly equal to zero when\n",
    "the tuning parameter $\\lambda$ is sufficiently large. Hence, much like best subset selection, the lasso performs *variable selection*."
   ]
  },
  {
   "cell_type": "code",
   "execution_count": 26,
   "metadata": {
    "id": "JAE7VV1tP56Q",
    "outputId": "68109d2a-e544-4335-c24a-e28cf3d73b26"
   },
   "outputs": [
    {
     "data": {
      "text/html": [
       "<div>\n",
       "<style scoped>\n",
       "    .dataframe tbody tr th:only-of-type {\n",
       "        vertical-align: middle;\n",
       "    }\n",
       "\n",
       "    .dataframe tbody tr th {\n",
       "        vertical-align: top;\n",
       "    }\n",
       "\n",
       "    .dataframe thead th {\n",
       "        text-align: right;\n",
       "    }\n",
       "</style>\n",
       "<table border=\"1\" class=\"dataframe\">\n",
       "  <thead>\n",
       "    <tr style=\"text-align: right;\">\n",
       "      <th></th>\n",
       "      <th>MSSubClass</th>\n",
       "      <th>LotArea</th>\n",
       "      <th>OverallQual</th>\n",
       "      <th>OverallCond</th>\n",
       "      <th>YearBuilt</th>\n",
       "      <th>YearRemodAdd</th>\n",
       "      <th>BsmtUnfSF</th>\n",
       "      <th>TotalBsmtSF</th>\n",
       "      <th>1stFlrSF</th>\n",
       "      <th>2ndFlrSF</th>\n",
       "      <th>...</th>\n",
       "      <th>WoodDeckSF</th>\n",
       "      <th>OpenPorchSF</th>\n",
       "      <th>EnclosedPorch</th>\n",
       "      <th>3SsnPorch</th>\n",
       "      <th>ScreenPorch</th>\n",
       "      <th>PoolArea</th>\n",
       "      <th>MiscVal</th>\n",
       "      <th>MoSold</th>\n",
       "      <th>YrSold</th>\n",
       "      <th>SalePrice</th>\n",
       "    </tr>\n",
       "    <tr>\n",
       "      <th>Id</th>\n",
       "      <th></th>\n",
       "      <th></th>\n",
       "      <th></th>\n",
       "      <th></th>\n",
       "      <th></th>\n",
       "      <th></th>\n",
       "      <th></th>\n",
       "      <th></th>\n",
       "      <th></th>\n",
       "      <th></th>\n",
       "      <th></th>\n",
       "      <th></th>\n",
       "      <th></th>\n",
       "      <th></th>\n",
       "      <th></th>\n",
       "      <th></th>\n",
       "      <th></th>\n",
       "      <th></th>\n",
       "      <th></th>\n",
       "      <th></th>\n",
       "      <th></th>\n",
       "    </tr>\n",
       "  </thead>\n",
       "  <tbody>\n",
       "    <tr>\n",
       "      <th>1</th>\n",
       "      <td>60</td>\n",
       "      <td>8450</td>\n",
       "      <td>7</td>\n",
       "      <td>5</td>\n",
       "      <td>2003</td>\n",
       "      <td>2003</td>\n",
       "      <td>150</td>\n",
       "      <td>856</td>\n",
       "      <td>856</td>\n",
       "      <td>854</td>\n",
       "      <td>...</td>\n",
       "      <td>0</td>\n",
       "      <td>61</td>\n",
       "      <td>0</td>\n",
       "      <td>0</td>\n",
       "      <td>0</td>\n",
       "      <td>0</td>\n",
       "      <td>0</td>\n",
       "      <td>2</td>\n",
       "      <td>2008</td>\n",
       "      <td>208500</td>\n",
       "    </tr>\n",
       "    <tr>\n",
       "      <th>2</th>\n",
       "      <td>20</td>\n",
       "      <td>9600</td>\n",
       "      <td>6</td>\n",
       "      <td>8</td>\n",
       "      <td>1976</td>\n",
       "      <td>1976</td>\n",
       "      <td>284</td>\n",
       "      <td>1262</td>\n",
       "      <td>1262</td>\n",
       "      <td>0</td>\n",
       "      <td>...</td>\n",
       "      <td>298</td>\n",
       "      <td>0</td>\n",
       "      <td>0</td>\n",
       "      <td>0</td>\n",
       "      <td>0</td>\n",
       "      <td>0</td>\n",
       "      <td>0</td>\n",
       "      <td>5</td>\n",
       "      <td>2007</td>\n",
       "      <td>181500</td>\n",
       "    </tr>\n",
       "    <tr>\n",
       "      <th>3</th>\n",
       "      <td>60</td>\n",
       "      <td>11250</td>\n",
       "      <td>7</td>\n",
       "      <td>5</td>\n",
       "      <td>2001</td>\n",
       "      <td>2002</td>\n",
       "      <td>434</td>\n",
       "      <td>920</td>\n",
       "      <td>920</td>\n",
       "      <td>866</td>\n",
       "      <td>...</td>\n",
       "      <td>0</td>\n",
       "      <td>42</td>\n",
       "      <td>0</td>\n",
       "      <td>0</td>\n",
       "      <td>0</td>\n",
       "      <td>0</td>\n",
       "      <td>0</td>\n",
       "      <td>9</td>\n",
       "      <td>2008</td>\n",
       "      <td>223500</td>\n",
       "    </tr>\n",
       "    <tr>\n",
       "      <th>4</th>\n",
       "      <td>70</td>\n",
       "      <td>9550</td>\n",
       "      <td>7</td>\n",
       "      <td>5</td>\n",
       "      <td>1915</td>\n",
       "      <td>1970</td>\n",
       "      <td>540</td>\n",
       "      <td>756</td>\n",
       "      <td>961</td>\n",
       "      <td>756</td>\n",
       "      <td>...</td>\n",
       "      <td>0</td>\n",
       "      <td>35</td>\n",
       "      <td>272</td>\n",
       "      <td>0</td>\n",
       "      <td>0</td>\n",
       "      <td>0</td>\n",
       "      <td>0</td>\n",
       "      <td>2</td>\n",
       "      <td>2006</td>\n",
       "      <td>140000</td>\n",
       "    </tr>\n",
       "    <tr>\n",
       "      <th>5</th>\n",
       "      <td>60</td>\n",
       "      <td>14260</td>\n",
       "      <td>8</td>\n",
       "      <td>5</td>\n",
       "      <td>2000</td>\n",
       "      <td>2000</td>\n",
       "      <td>490</td>\n",
       "      <td>1145</td>\n",
       "      <td>1145</td>\n",
       "      <td>1053</td>\n",
       "      <td>...</td>\n",
       "      <td>192</td>\n",
       "      <td>84</td>\n",
       "      <td>0</td>\n",
       "      <td>0</td>\n",
       "      <td>0</td>\n",
       "      <td>0</td>\n",
       "      <td>0</td>\n",
       "      <td>12</td>\n",
       "      <td>2008</td>\n",
       "      <td>250000</td>\n",
       "    </tr>\n",
       "  </tbody>\n",
       "</table>\n",
       "<p>5 rows × 31 columns</p>\n",
       "</div>"
      ],
      "text/plain": [
       "    MSSubClass  LotArea  OverallQual  OverallCond  YearBuilt  YearRemodAdd  \\\n",
       "Id                                                                           \n",
       "1           60     8450            7            5       2003          2003   \n",
       "2           20     9600            6            8       1976          1976   \n",
       "3           60    11250            7            5       2001          2002   \n",
       "4           70     9550            7            5       1915          1970   \n",
       "5           60    14260            8            5       2000          2000   \n",
       "\n",
       "    BsmtUnfSF  TotalBsmtSF  1stFlrSF  2ndFlrSF  ...  WoodDeckSF  OpenPorchSF  \\\n",
       "Id                                              ...                            \n",
       "1         150          856       856       854  ...           0           61   \n",
       "2         284         1262      1262         0  ...         298            0   \n",
       "3         434          920       920       866  ...           0           42   \n",
       "4         540          756       961       756  ...           0           35   \n",
       "5         490         1145      1145      1053  ...         192           84   \n",
       "\n",
       "    EnclosedPorch  3SsnPorch  ScreenPorch  PoolArea  MiscVal  MoSold  YrSold  \\\n",
       "Id                                                                             \n",
       "1               0          0            0         0        0       2    2008   \n",
       "2               0          0            0         0        0       5    2007   \n",
       "3               0          0            0         0        0       9    2008   \n",
       "4             272          0            0         0        0       2    2006   \n",
       "5               0          0            0         0        0      12    2008   \n",
       "\n",
       "    SalePrice  \n",
       "Id             \n",
       "1      208500  \n",
       "2      181500  \n",
       "3      223500  \n",
       "4      140000  \n",
       "5      250000  \n",
       "\n",
       "[5 rows x 31 columns]"
      ]
     },
     "execution_count": 26,
     "metadata": {},
     "output_type": "execute_result"
    }
   ],
   "source": [
    "data.head()"
   ]
  },
  {
   "cell_type": "markdown",
   "metadata": {
    "id": "pGWemqI1P56R"
   },
   "source": [
    "#### L2 regularization"
   ]
  },
  {
   "cell_type": "code",
   "execution_count": 27,
   "metadata": {
    "colab": {
     "base_uri": "https://localhost:8080/"
    },
    "id": "gVeZvyt4P56S",
    "outputId": "7a939f2c-5a4a-4bd0-ccb1-583f2f8cbf1d"
   },
   "outputs": [
    {
     "name": "stdout",
     "output_type": "stream",
     "text": [
      "Test MSE = 1614154736.5663\n",
      "Train MSE = 1118176485.6748\n"
     ]
    }
   ],
   "source": [
    "from sklearn.linear_model import Ridge\n",
    "from sklearn.metrics import mean_squared_error\n",
    "from sklearn.model_selection import train_test_split\n",
    "\n",
    "X_train, X_test, y_train, y_test = train_test_split(data.drop('SalePrice', axis=1), data.SalePrice, \\\n",
    "                                                    test_size=0.33, random_state=42)\n",
    "\n",
    "model = Ridge()\n",
    "model.fit(X_train, y_train)\n",
    "y_pred = model.predict(X_test)\n",
    "y_train_pred = model.predict(X_train)\n",
    "\n",
    "print(\"Test MSE = %.4f\" % mean_squared_error(y_test, y_pred))\n",
    "print(\"Train MSE = %.4f\" % mean_squared_error(y_train, y_train_pred))"
   ]
  },
  {
   "cell_type": "markdown",
   "metadata": {
    "id": "XBHxCMHBP56S"
   },
   "source": [
    "### Cross-Validation\n",
    "\n",
    "<img src=\"https://docs.splunk.com/images/thumb/e/ee/Kfold_cv_diagram.png/1200px-Kfold_cv_diagram.png\" width=50%>"
   ]
  },
  {
   "cell_type": "code",
   "execution_count": 28,
   "metadata": {
    "colab": {
     "base_uri": "https://localhost:8080/"
    },
    "id": "zkS1f-9bP56S",
    "outputId": "ef812496-c531-4c08-822d-69d35fff6923"
   },
   "outputs": [
    {
     "name": "stdout",
     "output_type": "stream",
     "text": [
      "Cross validation scores:\n",
      "\t 1479384499.2952\n",
      "\t2503090058.5411\n",
      "\t1201178649.8984\n",
      "\t694202047.1882\n",
      "\t2348370475.1935\n",
      "Mean CV MSE = 1645245146.0233\n"
     ]
    }
   ],
   "source": [
    "from sklearn.model_selection import cross_val_score\n",
    "\n",
    "cv_scores = cross_val_score(model, X_train, y_train, cv=5, scoring='neg_mean_squared_error')\n",
    "print(\"Cross validation scores:\\n\\t\", \"\\n\\t\".join(\"%.4f\" % -x for x in cv_scores))\n",
    "print(\"Mean CV MSE = %.4f\" % np.mean(-cv_scores))"
   ]
  },
  {
   "cell_type": "code",
   "execution_count": 29,
   "metadata": {
    "id": "wYdumLg_P56S"
   },
   "outputs": [],
   "source": [
    "def show_weights(features, weights, scales):\n",
    "    fig, axs = plt.subplots(figsize=(14, 10), ncols=2)\n",
    "    sorted_weights = sorted(zip(weights, features, scales), reverse=True)\n",
    "    weights = [x[0] for x in sorted_weights]\n",
    "    features = [x[1] for x in sorted_weights]\n",
    "    scales = [x[2] for x in sorted_weights]\n",
    "    sns.barplot(y=features, x=weights, ax=axs[0])\n",
    "    axs[0].set_xlabel(\"Weight\")\n",
    "    sns.barplot(y=features, x=scales, ax=axs[1])\n",
    "    axs[1].set_xlabel(\"Scale\")\n",
    "    plt.tight_layout()"
   ]
  },
  {
   "cell_type": "code",
   "execution_count": 30,
   "metadata": {
    "colab": {
     "base_uri": "https://localhost:8080/",
     "height": 729
    },
    "id": "GV8DIIIsP56S",
    "outputId": "b290b7e4-25bf-4dfb-e72e-8c75790c47a5"
   },
   "outputs": [
    {
     "data": {
      "image/png": "[encoded data removed]",
      "text/plain": [
       "<Figure size 1008x720 with 2 Axes>"
      ]
     },
     "metadata": {},
     "output_type": "display_data"
    }
   ],
   "source": [
    "show_weights(X_train.columns, model.coef_, X_train.std())"
   ]
  },
  {
   "cell_type": "markdown",
   "metadata": {
    "id": "CVeKGlLiP56S"
   },
   "source": [
    "### Feature Transform\n",
    "\n",
    "[`StandardScaler`](https://scikit-learn.org/stable/modules/generated/sklearn.preprocessing.StandardScaler.html)"
   ]
  },
  {
   "cell_type": "code",
   "execution_count": 31,
   "metadata": {
    "colab": {
     "base_uri": "https://localhost:8080/"
    },
    "id": "OLmKzNFRP56S",
    "outputId": "552767f8-ec07-4dc4-c461-bb04b45cf3b4"
   },
   "outputs": [
    {
     "name": "stdout",
     "output_type": "stream",
     "text": [
      "Test MSE = 1614337582.6718\n",
      "Train MSE = 1118171436.8603\n"
     ]
    }
   ],
   "source": [
    "from sklearn.preprocessing import StandardScaler\n",
    "\n",
    "scaler = StandardScaler()\n",
    "X_train_scaled = scaler.fit_transform(X_train)\n",
    "X_test_scaled = scaler.transform(X_test)\n",
    "\n",
    "model = Ridge()\n",
    "model.fit(X_train_scaled, y_train)\n",
    "y_pred = model.predict(X_test_scaled)\n",
    "y_train_pred = model.predict(X_train_scaled)\n",
    "\n",
    "print(\"Test MSE = %.4f\" % mean_squared_error(y_test, y_pred))\n",
    "print(\"Train MSE = %.4f\" % mean_squared_error(y_train, y_train_pred))"
   ]
  },
  {
   "cell_type": "code",
   "execution_count": 32,
   "metadata": {
    "colab": {
     "base_uri": "https://localhost:8080/",
     "height": 729
    },
    "id": "SybQ-A8RP56T",
    "outputId": "7f8c7b52-636d-4cd5-bbc5-3a4d1753021d"
   },
   "outputs": [
    {
     "data": {
      "image/png": "[encoded data removed]",
      "text/plain": [
       "<Figure size 1008x720 with 2 Axes>"
      ]
     },
     "metadata": {},
     "output_type": "display_data"
    }
   ],
   "source": [
    "scales = pd.Series(data=X_train_scaled.std(axis=0), index=X_train.columns)\n",
    "show_weights(X_train.columns, model.coef_, scales)"
   ]
  },
  {
   "cell_type": "markdown",
   "metadata": {
    "id": "fU7dQ2OQP56T"
   },
   "source": [
    "### GridSearch"
   ]
  },
  {
   "cell_type": "code",
   "execution_count": 33,
   "metadata": {
    "colab": {
     "base_uri": "https://localhost:8080/",
     "height": 330
    },
    "id": "CcnYG1MrP56T",
    "outputId": "5439149c-47d9-4644-b717-eea7d490ec13"
   },
   "outputs": [
    {
     "name": "stdout",
     "output_type": "stream",
     "text": [
      "Best alpha = 297.6351\n"
     ]
    },
    {
     "data": {
      "text/plain": [
       "Text(0, 0.5, 'CV score')"
      ]
     },
     "execution_count": 33,
     "metadata": {},
     "output_type": "execute_result"
    },
    {
     "data": {
      "image/png": "[encoded data removed]",
      "text/plain": [
       "<Figure size 432x288 with 1 Axes>"
      ]
     },
     "metadata": {},
     "output_type": "display_data"
    }
   ],
   "source": [
    "from sklearn.model_selection import GridSearchCV\n",
    "\n",
    "alphas = np.logspace(-2, 3, 20)\n",
    "searcher = GridSearchCV(Ridge(), [{\"alpha\": alphas}], scoring=\"neg_mean_squared_error\", cv=5)\n",
    "searcher.fit(X_train_scaled, y_train)\n",
    "\n",
    "best_alpha = searcher.best_params_[\"alpha\"]\n",
    "print(\"Best alpha = %.4f\" % best_alpha)\n",
    "\n",
    "plt.plot(alphas, -searcher.cv_results_[\"mean_test_score\"])\n",
    "plt.xscale(\"log\")\n",
    "plt.xlabel(\"alpha\")\n",
    "plt.ylabel(\"CV score\")"
   ]
  },
  {
   "cell_type": "markdown",
   "metadata": {
    "id": "sDi8W5j9P56T"
   },
   "source": [
    "**Question**: Why don't we choose the regularization coefficient by train or test sets?"
   ]
  },
  {
   "cell_type": "markdown",
   "metadata": {
    "id": "AjMQqFYJP56U"
   },
   "source": [
    "### l1 regularization"
   ]
  },
  {
   "cell_type": "code",
   "execution_count": 34,
   "metadata": {
    "colab": {
     "base_uri": "https://localhost:8080/"
    },
    "id": "du3DKE29P56U",
    "outputId": "048948c2-f73a-4093-ad01-990b981cfc22"
   },
   "outputs": [
    {
     "name": "stdout",
     "output_type": "stream",
     "text": [
      "RMSE = 1614473738.4383\n"
     ]
    }
   ],
   "source": [
    "from sklearn.linear_model import Lasso\n",
    "\n",
    "model = Lasso().fit(X_train, y_train)\n",
    "y_pred = model.predict(X_test)\n",
    "print(\"RMSE = %.4f\" % mean_squared_error(y_test, y_pred))"
   ]
  },
  {
   "cell_type": "markdown",
   "metadata": {
    "id": "Aj8iUXjVP56U"
   },
   "source": [
    "#### residuals distribution"
   ]
  },
  {
   "cell_type": "code",
   "execution_count": 35,
   "metadata": {
    "id": "80VQH9ExP56V",
    "outputId": "9c0886a8-a014-4793-9a5a-88ea1ff1d4c1"
   },
   "outputs": [
    {
     "data": {
      "text/plain": [
       "<AxesSubplot:xlabel='SalePrice', ylabel='Density'>"
      ]
     },
     "execution_count": 35,
     "metadata": {},
     "output_type": "execute_result"
    },
    {
     "data": {
      "image/png": "[encoded data removed]",
      "text/plain": [
       "<Figure size 432x288 with 1 Axes>"
      ]
     },
     "metadata": {},
     "output_type": "display_data"
    }
   ],
   "source": [
    "error = (y_train - model.predict(X_train)) ** 2\n",
    "sns.distplot(error)"
   ]
  },
  {
   "cell_type": "markdown",
   "metadata": {
    "id": "_37IOUjpP56V"
   },
   "source": [
    "There are examples with large residuals. Let's drop them from the training set. For instance, drop the examples with residuals greater than 0.95-quantile."
   ]
  },
  {
   "cell_type": "code",
   "execution_count": 36,
   "metadata": {
    "id": "gSTsAlUzP56V"
   },
   "outputs": [],
   "source": [
    "mask = (error < np.quantile(error, 0.95))"
   ]
  },
  {
   "cell_type": "code",
   "execution_count": 37,
   "metadata": {
    "id": "CKr7Op5SP56V",
    "outputId": "fbc55e33-8d38-4312-c923-e3545dd26895"
   },
   "outputs": [
    {
     "name": "stdout",
     "output_type": "stream",
     "text": [
      "Test RMSE = 1367074818.1835\n"
     ]
    }
   ],
   "source": [
    "model = Lasso().fit(X_train[mask], y_train[mask])\n",
    "y_pred = model.predict(X_test)\n",
    "print(\"Test RMSE = %.4f\" % mean_squared_error(y_test, y_pred))"
   ]
  },
  {
   "cell_type": "code",
   "execution_count": 38,
   "metadata": {
    "id": "tMUZ9GgFP56V"
   },
   "outputs": [],
   "source": [
    "X_train = X_train[mask]\n",
    "y_train = y_train[mask]"
   ]
  },
  {
   "cell_type": "code",
   "execution_count": 39,
   "metadata": {
    "id": "j7tfhhHWP56V",
    "outputId": "618ca16d-8cdc-4fa8-bdac-dce926848159"
   },
   "outputs": [
    {
     "data": {
      "text/plain": [
       "<AxesSubplot:xlabel='SalePrice', ylabel='Density'>"
      ]
     },
     "execution_count": 39,
     "metadata": {},
     "output_type": "execute_result"
    },
    {
     "data": {
      "image/png": "[encoded data removed]",
      "text/plain": [
       "<Figure size 432x288 with 1 Axes>"
      ]
     },
     "metadata": {},
     "output_type": "display_data"
    }
   ],
   "source": [
    "error = (y_train[mask] - model.predict(X_train[mask])) ** 2\n",
    "sns.distplot(error)"
   ]
  },
  {
   "cell_type": "code",
   "execution_count": null,
   "metadata": {},
   "outputs": [],
   "source": []
  },
  {
   "cell_type": "code",
   "execution_count": null,
   "metadata": {},
   "outputs": [],
   "source": []
  }
 ],
 "metadata": {
  "colab": {
   "name": "04_HSE_SE_Linear_regression_v2.ipynb",
   "provenance": [],
   "toc_visible": true
  },
  "kernelspec": {
   "display_name": "Python 3 (ipykernel)",
   "language": "python",
   "name": "python3"
  },
  "language_info": {
   "codemirror_mode": {
    "name": "ipython",
    "version": 3
   },
   "file_extension": ".py",
   "mimetype": "text/x-python",
   "name": "python",
   "nbconvert_exporter": "python",
   "pygments_lexer": "ipython3",
   "version": "3.9.5"
  }
 },
 "nbformat": 4,
 "nbformat_minor": 4
}
