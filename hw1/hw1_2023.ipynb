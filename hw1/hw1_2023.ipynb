{
  "cells": [
    {
      "cell_type": "markdown",
      "metadata": {
        "id": "5GYwwlTcuJ4m"
      },
      "source": [
        "# HSE 2023: Mathematical Methods for Data Analysis\n",
        "\n",
        "## Homework 1"
      ]
    },
    {
      "cell_type": "markdown",
      "metadata": {
        "id": "2OMoZn7puJ4n"
      },
      "source": [
        "### Attention!\n",
        "* For tasks where <ins>text answer</ins> is required **Russian language** is **allowed**.\n",
        "* If a task asks you to describe something (make conclusions) then **text answer** is **mandatory** and **is** part of the task\n",
        "* **Do not** upload the dataset (titanic.csv) to the grading system (we already have it)\n",
        "* We **only** accept **ipynb** notebooks. If you use Google Colab then you'll have to download the notebook before passing the homework\n",
        "* **Do not** use python loops instead of NumPy vector operations over NumPy vectors - it significantly decreases performance (see why https://blog.paperspace.com/numpy-optimization-vectorization-and-broadcasting/), will be punished with -0.25 for **every** task.\n",
        "Loops are only allowed in part 1 (Tasks 1 - 4).\n",
        "* Some tasks contain tests. They only test your solution on a simple example, thus, passing the test does **not** guarantee you the full grade for the task."
      ]
    },
    {
      "cell_type": "code",
      "execution_count": 1,
      "metadata": {
        "id": "KVxhOZOXuJ4o"
      },
      "outputs": [],
      "source": [
        "%matplotlib inline\n",
        "import numpy as np\n",
        "import pandas as pd\n",
        "import matplotlib.pyplot as plt\n",
        "import seaborn as sns"
      ]
    },
    {
      "cell_type": "markdown",
      "metadata": {
        "id": "U20kQiWSuJ4o"
      },
      "source": [
        "# 1. Python (2 points)"
      ]
    },
    {
      "cell_type": "markdown",
      "metadata": {
        "id": "q6l8_yRXuJ4o"
      },
      "source": [
        "**Task 1** (0.5 points)<br/>\n",
        "Enter nonzero numbers `a`, `d` and `N`. Find the sum of the first `N` members of [harmonic sequence](https://en.wikipedia.org/wiki/Harmonic_progression_(mathematics)) with the first member denominator `a`"
      ]
    },
    {
      "cell_type": "code",
      "execution_count": null,
      "metadata": {
        "id": "H2VAlE4WuJ4o"
      },
      "outputs": [],
      "source": [
        "def find_sum(a: int, d: int, N: int) -> float:\n",
        "    ## Your code here\n",
        "    return result\n",
        "\n",
        "a = 1\n",
        "d = 1\n",
        "N = 10\n",
        "print(find_sum(a, d, N))"
      ]
    },
    {
      "cell_type": "markdown",
      "metadata": {
        "id": "FCtV7ud0uJ4p"
      },
      "source": [
        "**Task 2** (0.5 points) <br/>\n",
        "Enter an integer number `N`. Check if it is a palindrome number **without converting it to the string**. It means that it can be read equally from left to right and from right to back."
      ]
    },
    {
      "cell_type": "code",
      "execution_count": null,
      "metadata": {
        "id": "-7y9eR62uJ4p"
      },
      "outputs": [],
      "source": [
        "def check_palindrome(N):\n",
        "    ## Your code here\n",
        "    return check_palindrome\n",
        "\n",
        "for N in [3, 81, 111, 113, 810, 2022, 4774, 51315, 611816]:\n",
        "    print(N, check_palindrome(N))"
      ]
    },
    {
      "cell_type": "markdown",
      "metadata": {
        "id": "MTmGn0IXuJ4p"
      },
      "source": [
        "**Task 3** (0.5 points) <br/>\n",
        "Find the first `N` palindrome numbers starting from 42 (you may use the function from the precious task)."
      ]
    },
    {
      "cell_type": "code",
      "execution_count": null,
      "metadata": {
        "id": "eWD7K18OuJ4p"
      },
      "outputs": [],
      "source": [
        "def find_palindromes(N):\n",
        "    ## Your code here\n",
        "    return palindromes\n",
        "\n",
        "print(find_palindromes(3))\n",
        "print(find_palindromes(13))\n",
        "print(find_palindromes(23))"
      ]
    },
    {
      "cell_type": "markdown",
      "metadata": {
        "id": "xl9sWBMFuJ4p"
      },
      "source": [
        "**Task 4** (0.5 points) <br/>\n",
        "There are numbers: `a`, `b`, `c`. Without using functions `min`, `max` and other functions, find the median number."
      ]
    },
    {
      "cell_type": "code",
      "execution_count": null,
      "metadata": {
        "id": "STOaXhYbuJ4p"
      },
      "outputs": [],
      "source": [
        "from random import randint\n",
        "\n",
        "def find_median(a, b, c):\n",
        "    ## Your code here\n",
        "    return result\n",
        "\n",
        "for i in range(10):\n",
        "\n",
        "    a = randint(-100, 100)\n",
        "    b = randint(-100, 100)\n",
        "    c = randint(-100, 100)\n",
        "\n",
        "    print(a, b, c, '\\tMedian:', find_median(a, b, c))"
      ]
    },
    {
      "cell_type": "markdown",
      "metadata": {
        "id": "up1L0oApuJ4p"
      },
      "source": [
        "# 2. Numpy (4 points)"
      ]
    },
    {
      "cell_type": "markdown",
      "metadata": {
        "id": "mWVb1DCyuJ4p"
      },
      "source": [
        "**Task 1** (0.5 points) <br/>\n",
        "Create a random array from Gaussian distribution with length of 12 and with sum of its elements equal to 15. Distribution shall be left Gaussian"
      ]
    },
    {
      "cell_type": "code",
      "execution_count": null,
      "metadata": {
        "id": "r0p7U44VuJ4p"
      },
      "outputs": [],
      "source": [
        "my_array = ## Your code here\n",
        "print(f'Length: {len(my_array)}')\n",
        "print(f'Sum of elements: {np.sum(my_array)}')"
      ]
    },
    {
      "cell_type": "markdown",
      "metadata": {
        "id": "k4v47kP0uJ4p"
      },
      "source": [
        "**Task 2** (0.5 points) <br/>\n",
        "Create two random arrays $a$ and $b$ with the same length.\n",
        "\n",
        "Calculate the following distances between the arrays **without using any special function. You may only use basic numpy operations (`np.linalg.*` and other high-level ones are prohibited).**:\n",
        "\n",
        "* Manhattan Distance\n",
        "$$ d(a, b) = \\sum_i |a_i - b_i| $$\n",
        "* Euclidean Distance\n",
        "$$ d(a, b) = \\sqrt{\\sum_i (a_i - b_i)^2} $$\n",
        "* Chebyshev Distance\n",
        "$$ d(a, b) = \\underset{i}{max} |a_i - b_i| $$\n",
        "* Cosine Distance\n",
        "$$ d(a, b) = 1 - \\frac{a^\\top b}{||a||_2\\cdot||b||_2} $$\n"
      ]
    },
    {
      "cell_type": "code",
      "execution_count": null,
      "metadata": {
        "id": "W3veWp-VuJ4p"
      },
      "outputs": [],
      "source": [
        "def calculate_manhattan(a, b):\n",
        "    ## Your code here\n",
        "    return distance\n",
        "\n",
        "def calculate_euclidean(a, b):\n",
        "    ## Your code here\n",
        "    return distance\n",
        "\n",
        "def calculate_chebyshev(a, b):\n",
        "    ## Your code here\n",
        "    return distance\n",
        "\n",
        "def calculate_cosine(a, b):\n",
        "    ## Your code here\n",
        "    return distance"
      ]
    },
    {
      "cell_type": "code",
      "execution_count": null,
      "metadata": {
        "id": "IbB3TB77uJ4q"
      },
      "outputs": [],
      "source": [
        "a = ## Your code here\n",
        "b = ## Your code here\n",
        "print(f'Manhattan distance: {calculate_manhattan(a, b)}')\n",
        "print(f'Euclidean distance: {calculate_euclidean(a, b)}')\n",
        "print(f'Chebyshev distance: {calculate_chebyshev(a, b)}')\n",
        "print(f'Cosine distance: {calculate_cosine(a, b)}')"
      ]
    },
    {
      "cell_type": "markdown",
      "metadata": {
        "id": "0inovs_suJ4q"
      },
      "source": [
        "**Task 3** (0.5 points) <br/>\n",
        "Create a random array of integers with length of 42. Transform the array so that\n",
        "* Maximum element(s) value is 10\n",
        "* Minimum element(s) value is -6\n",
        "* Other values are in interval (-6; 10) without changing the relative order (relation $\\frac{x_i}{x_{i-1}}=\\frac{\\widehat{x}_{i}}{\\widehat{x}_{i-1}}$ holds)"
      ]
    },
    {
      "cell_type": "code",
      "execution_count": null,
      "metadata": {
        "id": "FhoGLR5CuJ4q"
      },
      "outputs": [],
      "source": [
        "def transform(array):\n",
        "    ## Your code here\n",
        "    return transformed_array"
      ]
    },
    {
      "cell_type": "code",
      "execution_count": null,
      "metadata": {
        "id": "8BE5MjUMuJ4q"
      },
      "outputs": [],
      "source": [
        "my_array = ## Your code here\n",
        "my_array = transform(my_array)\n",
        "print(f'Min: {np.min(my_array)}')\n",
        "print(f'Max: {np.max(my_array)}')\n",
        "print('Array:')\n",
        "print(my_array)"
      ]
    },
    {
      "cell_type": "markdown",
      "metadata": {
        "id": "2uFda-U_uJ4q"
      },
      "source": [
        "**Task 4** (0.5 points) <br/>\n",
        "Create an array with shape of $10 \\times 3$ with integers from [-12, 4]. Find a column that contains the minimum element of the array."
      ]
    },
    {
      "cell_type": "code",
      "execution_count": null,
      "metadata": {
        "id": "u4QV7NVIuJ4q"
      },
      "outputs": [],
      "source": [
        "my_array = ## Your code here\n",
        "selected_column = ## Your code here\n",
        "print('Shape: ', my_array.shape)\n",
        "print('Array:')\n",
        "print(my_array)\n",
        "print(f'Selected column: {selected_column}')"
      ]
    },
    {
      "cell_type": "markdown",
      "metadata": {
        "id": "9ct8lQ4BuJ4q"
      },
      "source": [
        "**Task 5** (0.5 points) <br/>\n",
        "\n",
        "Replace all missing values in the following array with the most appropriate quantile, explain why you chose it."
      ]
    },
    {
      "cell_type": "code",
      "execution_count": null,
      "metadata": {
        "id": "RJ-6HPUQuJ4q"
      },
      "outputs": [],
      "source": [
        "arr = np.random.rand(10)\n",
        "idx = np.random.randint(0, 10, 4)\n",
        "arr[idx] = np.nan\n",
        "\n",
        "print('Array:')\n",
        "print(arr)"
      ]
    },
    {
      "cell_type": "code",
      "execution_count": null,
      "metadata": {
        "id": "wZV63ohyuJ4q"
      },
      "outputs": [],
      "source": [
        "def replace_missing(arr):\n",
        "    ## Your code here\n",
        "    return array_without_missing"
      ]
    },
    {
      "cell_type": "code",
      "execution_count": null,
      "metadata": {
        "id": "_hG2tbcPuJ4q"
      },
      "outputs": [],
      "source": [
        "arr = replace_missing(arr)\n",
        "print('Array with no missing values:')\n",
        "print(arr)"
      ]
    },
    {
      "cell_type": "markdown",
      "source": [
        "**Answer:** here"
      ],
      "metadata": {
        "id": "eacEv4K39AAp"
      }
    },
    {
      "cell_type": "markdown",
      "metadata": {
        "id": "HX2x-qUEuJ4q"
      },
      "source": [
        "**Task 6** (0.5 points) <br/>\n",
        "Create a function which takes an image ```X``` (3D array of the shape (n, m, 3)) as an input and returns the median and std for every channel (you should get a vector of shape 3, RGB)."
      ]
    },
    {
      "cell_type": "code",
      "execution_count": null,
      "metadata": {
        "id": "pbdP4x4AuJ4q"
      },
      "outputs": [],
      "source": [
        "def stats_channel(X):\n",
        "    # Your code here\n",
        "    return median, std"
      ]
    },
    {
      "cell_type": "code",
      "execution_count": null,
      "metadata": {
        "id": "hucX0ybWuJ4q"
      },
      "outputs": [],
      "source": [
        "n = 19\n",
        "m = 23\n",
        "X = np.random.randint(-11, 8, size=(n, m, 3))\n",
        "print(stats_channel(X))"
      ]
    },
    {
      "cell_type": "markdown",
      "metadata": {
        "id": "0Pg2nDCxuJ4q"
      },
      "source": [
        "### **Task 7** (1 points) <br/>\n",
        "Create a function which takes a 3D matrix ```X``` as an input and returns all its unique values along the first axis.\n",
        "\n",
        "Sample input:\n",
        "\n",
        "```\n",
        "np.array(\n",
        "  [[[1, 2, 3],\n",
        "    [1, 2, 3],\n",
        "    [1, 2, 3]],\n",
        "\n",
        "   [[4, 5, 6],\n",
        "    [4, 5, 7],\n",
        "    [4, 5, 6]],\n",
        "\n",
        "   [[7, 8, 9],\n",
        "    [7, 8, 9],\n",
        "    [7, 8, 9]]]\n",
        ")\n",
        "```\n",
        "  \n",
        "Sample output:\n",
        "\n",
        "```\n",
        "np.array(\n",
        "  [[[1, 2, 3],\n",
        "    [1, 2, 3]],\n",
        "\n",
        "   [[4, 5, 6],\n",
        "    [4, 5, 7]],\n",
        "\n",
        "   [[7, 8, 9],\n",
        "    [7, 8, 9]]]\n",
        ")\n",
        "```"
      ]
    },
    {
      "cell_type": "code",
      "execution_count": null,
      "metadata": {
        "id": "YdsrT0G8uJ4q"
      },
      "outputs": [],
      "source": [
        "def get_unique_values(X):\n",
        "    ## Your code here\n",
        "    return result"
      ]
    },
    {
      "cell_type": "code",
      "execution_count": null,
      "metadata": {
        "id": "UNvyiySzuJ4q"
      },
      "outputs": [],
      "source": [
        "X =  np.random.randint(4, 6, size=(n, 3, 3))\n",
        "print('Matrix:')\n",
        "print(X)\n",
        "print('Unique :')\n",
        "get_unique_values(X)"
      ]
    },
    {
      "cell_type": "markdown",
      "metadata": {
        "id": "W135mraVuJ4r"
      },
      "source": [
        "# 3. Pandas & Visualization (4 points)\n"
      ]
    },
    {
      "cell_type": "markdown",
      "metadata": {
        "id": "_UfaIXGcuJ4r"
      },
      "source": [
        "You are going to work with *Titanic* dataset which contains information about passengers of Titanic:\n",
        "- **Survived** - 1 - survived, 0 - died (0); **Target variable**\n",
        "- **pclass** - passengers's class;\n",
        "- **sex** - passengers's sex\n",
        "- **Age** - passengers's age in years\n",
        "- **sibsp**    - is the passenger someones siblings   \n",
        "- **parch**    - is the passenger someones child or parent\n",
        "- **ticket** - ticket number    \n",
        "- **fare** - ticket price    \n",
        "- **cabin** - cabin number\n",
        "- **embarked** - port of Embarkation; C = Cherbourg, Q = Queenstown, S = Southampton\n",
        "\n",
        "**Note** for all visualizations use matplotlib or seaborn but NOT plotly! Plotly's graphics sometimes vanish after saving. In this case the task won't be graded.\n",
        "\n",
        "**Note** support all your answers with necessary code, computations, vizualization, and explanation. Answers without code and explanation won't be graded.\n",
        "\n",
        "**Task 0** (0 points) \\\n",
        "Load the dataset and print first 6 rows"
      ]
    },
    {
      "cell_type": "code",
      "execution_count": null,
      "metadata": {
        "id": "92IDku0HuJ4r"
      },
      "outputs": [],
      "source": [
        "dataset =  ## Your code here\n",
        "## Your code here"
      ]
    },
    {
      "cell_type": "markdown",
      "metadata": {
        "id": "0FeAHgZtuJ4r"
      },
      "source": [
        "**Task 1** (1 points) <br/>\n",
        "Answer the following questions:\n",
        "    \n",
        "    * Are there any missing values? In what columns?\n",
        "    * What is the percentage of survived passengers? Are the classes balanced?\n",
        "    * Were there more males or females?\n",
        "    * What what the least popular port of embarkation?\n",
        "    * How many passenger classes (pclass) were there on Tinanic?\n",
        "    * What is the overall average ticket fare? And for every passenger class?\n",
        "Please, write not only the answers but the code, proving it."
      ]
    },
    {
      "cell_type": "code",
      "execution_count": null,
      "metadata": {
        "id": "4PizO86UuJ4r"
      },
      "outputs": [],
      "source": [
        "## Your code here"
      ]
    },
    {
      "cell_type": "markdown",
      "metadata": {
        "id": "s9bfz5KbuJ4r"
      },
      "source": [
        "**Task 2** (0.5 points) <br/>\n",
        "Visualize age distribution (you may use a histogram, for example).\n",
        "\n",
        "    * What is the minimal and maximum ages of the passengers? Visualize it on the plot\n",
        "    * What is the median age? And among males and females separately? Visualize it on the separate plot\n",
        "    * Make conclusions about what you see on the plots"
      ]
    },
    {
      "cell_type": "code",
      "execution_count": null,
      "metadata": {
        "id": "q19UF2SHuJ41"
      },
      "outputs": [],
      "source": [
        "## Your code here"
      ]
    },
    {
      "cell_type": "markdown",
      "metadata": {
        "id": "ye6WohwXuJ41"
      },
      "source": [
        "**Task 3** (1 points) <br/>\n",
        "Find all the titles of the passengers (example, *Capt., Mr.,Mme.*), which are written in the column Name, and answer the following questions:\n",
        "\n",
        "    * How many are there unique titles?\n",
        "    * How many are there passengers with every title?\n",
        "    * What is the most popular man's title? And woman's title?\n",
        "    \n",
        "**Hint** You may select the title from the name as a word which contains a dot and is not middle name."
      ]
    },
    {
      "cell_type": "code",
      "execution_count": null,
      "metadata": {
        "id": "LDBIRnGXuJ41"
      },
      "outputs": [],
      "source": [
        "## Your code here"
      ]
    },
    {
      "cell_type": "markdown",
      "metadata": {
        "id": "n0RsqbTPuJ41"
      },
      "source": [
        "**Task 4** (0.5 points) <br/>\n",
        "Is there correlation between *pclass* and *ticket price*? Calculate mean price for each class and visualize price distribution for each class as well. Make conclusions about what you see on the plot\n",
        "\n",
        "Hint: you could make one or several plot types i.e.  box, violine, pair, histogram (see additional notebooks for Seminar 1 \"Visualization with Seaborn\"). Main point here is to **choose** plots wisely and **make meaningful conclusions**\n",
        "\n"
      ]
    },
    {
      "cell_type": "code",
      "execution_count": null,
      "metadata": {
        "id": "fkvVvnHPuJ41"
      },
      "outputs": [],
      "source": [
        "## You code here"
      ]
    },
    {
      "cell_type": "markdown",
      "metadata": {
        "id": "UcptRilCuJ41"
      },
      "source": [
        "**Task 5** (0.5 points) <br/>\n",
        "The same question as in task 4 about correlation between *embarked* and *ticket priсe*."
      ]
    },
    {
      "cell_type": "code",
      "execution_count": null,
      "metadata": {
        "id": "biR9anS5uJ41"
      },
      "outputs": [],
      "source": [
        "## You code here"
      ]
    },
    {
      "cell_type": "markdown",
      "metadata": {
        "id": "eeKKfMOguJ41"
      },
      "source": [
        "**Task 6** (0.5 points) <br/>\n",
        "Visualize age distribution for survived and not survived passengers separately and calculate the mean age for each class. Are they different? Provide the same visualization for males and females separately. Make conclusions about what you see on the plots"
      ]
    },
    {
      "cell_type": "code",
      "execution_count": null,
      "metadata": {
        "id": "udmgFlQTuJ42"
      },
      "outputs": [],
      "source": [
        "## You code here"
      ]
    }
  ],
  "metadata": {
    "kernelspec": {
      "display_name": "Python 3 (ipykernel)",
      "language": "python",
      "name": "python3"
    },
    "language_info": {
      "codemirror_mode": {
        "name": "ipython",
        "version": 3
      },
      "file_extension": ".py",
      "mimetype": "text/x-python",
      "name": "python",
      "nbconvert_exporter": "python",
      "pygments_lexer": "ipython3",
      "version": "3.9.7"
    },
    "colab": {
      "provenance": []
    }
  },
  "nbformat": 4,
  "nbformat_minor": 0
}
